{
 "cells": [
  {
   "cell_type": "code",
   "execution_count": 1,
   "metadata": {},
   "outputs": [],
   "source": [
    "import pandas as pd\n",
    "import numpy as np\n",
    "import matplotlib.pyplot as plt\n",
    "import seaborn as sns"
   ]
  },
  {
   "cell_type": "code",
   "execution_count": 2,
   "metadata": {},
   "outputs": [
    {
     "data": {
      "text/html": [
       "<div>\n",
       "<style scoped>\n",
       "    .dataframe tbody tr th:only-of-type {\n",
       "        vertical-align: middle;\n",
       "    }\n",
       "\n",
       "    .dataframe tbody tr th {\n",
       "        vertical-align: top;\n",
       "    }\n",
       "\n",
       "    .dataframe thead th {\n",
       "        text-align: right;\n",
       "    }\n",
       "</style>\n",
       "<table border=\"1\" class=\"dataframe\">\n",
       "  <thead>\n",
       "    <tr style=\"text-align: right;\">\n",
       "      <th></th>\n",
       "      <th>date</th>\n",
       "      <th>year</th>\n",
       "      <th>gold</th>\n",
       "      <th>agnico</th>\n",
       "      <th>coal</th>\n",
       "      <th>copper</th>\n",
       "      <th>dax</th>\n",
       "      <th>dji</th>\n",
       "      <th>djt</th>\n",
       "      <th>eur</th>\n",
       "      <th>...</th>\n",
       "      <th>nasdaq</th>\n",
       "      <th>newmont</th>\n",
       "      <th>n_gas</th>\n",
       "      <th>oil</th>\n",
       "      <th>palladium</th>\n",
       "      <th>platinum</th>\n",
       "      <th>rgold</th>\n",
       "      <th>rio</th>\n",
       "      <th>silver</th>\n",
       "      <th>snp</th>\n",
       "    </tr>\n",
       "  </thead>\n",
       "  <tbody>\n",
       "    <tr>\n",
       "      <th>0</th>\n",
       "      <td>2016-01-04</td>\n",
       "      <td>2016</td>\n",
       "      <td>1078.47</td>\n",
       "      <td>26.94</td>\n",
       "      <td>49.90</td>\n",
       "      <td>25.66</td>\n",
       "      <td>348.83</td>\n",
       "      <td>17148.94</td>\n",
       "      <td>7352.59</td>\n",
       "      <td>1.08</td>\n",
       "      <td>...</td>\n",
       "      <td>4903.09</td>\n",
       "      <td>18.44</td>\n",
       "      <td>2.33</td>\n",
       "      <td>36.76</td>\n",
       "      <td>544.55</td>\n",
       "      <td>881.65</td>\n",
       "      <td>37.18</td>\n",
       "      <td>28.41</td>\n",
       "      <td>13.98</td>\n",
       "      <td>2012.66</td>\n",
       "    </tr>\n",
       "    <tr>\n",
       "      <th>1</th>\n",
       "      <td>2016-01-05</td>\n",
       "      <td>2016</td>\n",
       "      <td>1079.33</td>\n",
       "      <td>27.62</td>\n",
       "      <td>50.25</td>\n",
       "      <td>25.95</td>\n",
       "      <td>350.98</td>\n",
       "      <td>17158.66</td>\n",
       "      <td>7363.95</td>\n",
       "      <td>1.07</td>\n",
       "      <td>...</td>\n",
       "      <td>4891.43</td>\n",
       "      <td>18.42</td>\n",
       "      <td>2.33</td>\n",
       "      <td>35.97</td>\n",
       "      <td>536.20</td>\n",
       "      <td>890.30</td>\n",
       "      <td>36.49</td>\n",
       "      <td>28.65</td>\n",
       "      <td>13.97</td>\n",
       "      <td>2016.71</td>\n",
       "    </tr>\n",
       "    <tr>\n",
       "      <th>2</th>\n",
       "      <td>2016-01-06</td>\n",
       "      <td>2016</td>\n",
       "      <td>1098.90</td>\n",
       "      <td>28.45</td>\n",
       "      <td>51.50</td>\n",
       "      <td>25.20</td>\n",
       "      <td>350.07</td>\n",
       "      <td>16906.51</td>\n",
       "      <td>7217.05</td>\n",
       "      <td>1.08</td>\n",
       "      <td>...</td>\n",
       "      <td>4835.76</td>\n",
       "      <td>18.56</td>\n",
       "      <td>2.27</td>\n",
       "      <td>33.97</td>\n",
       "      <td>505.60</td>\n",
       "      <td>879.55</td>\n",
       "      <td>37.02</td>\n",
       "      <td>27.03</td>\n",
       "      <td>14.07</td>\n",
       "      <td>1990.26</td>\n",
       "    </tr>\n",
       "    <tr>\n",
       "      <th>3</th>\n",
       "      <td>2016-01-07</td>\n",
       "      <td>2016</td>\n",
       "      <td>1103.45</td>\n",
       "      <td>29.99</td>\n",
       "      <td>51.25</td>\n",
       "      <td>24.56</td>\n",
       "      <td>341.24</td>\n",
       "      <td>16514.10</td>\n",
       "      <td>6995.39</td>\n",
       "      <td>1.09</td>\n",
       "      <td>...</td>\n",
       "      <td>4689.43</td>\n",
       "      <td>18.86</td>\n",
       "      <td>2.38</td>\n",
       "      <td>33.27</td>\n",
       "      <td>493.50</td>\n",
       "      <td>875.55</td>\n",
       "      <td>38.74</td>\n",
       "      <td>25.81</td>\n",
       "      <td>14.20</td>\n",
       "      <td>1943.09</td>\n",
       "    </tr>\n",
       "    <tr>\n",
       "      <th>4</th>\n",
       "      <td>2016-01-08</td>\n",
       "      <td>2016</td>\n",
       "      <td>1104.32</td>\n",
       "      <td>29.56</td>\n",
       "      <td>50.25</td>\n",
       "      <td>24.07</td>\n",
       "      <td>338.23</td>\n",
       "      <td>16346.45</td>\n",
       "      <td>6946.36</td>\n",
       "      <td>1.09</td>\n",
       "      <td>...</td>\n",
       "      <td>4643.63</td>\n",
       "      <td>18.01</td>\n",
       "      <td>2.47</td>\n",
       "      <td>33.16</td>\n",
       "      <td>494.20</td>\n",
       "      <td>880.00</td>\n",
       "      <td>37.59</td>\n",
       "      <td>25.07</td>\n",
       "      <td>13.94</td>\n",
       "      <td>1922.03</td>\n",
       "    </tr>\n",
       "  </tbody>\n",
       "</table>\n",
       "<p>5 rows × 21 columns</p>\n",
       "</div>"
      ],
      "text/plain": [
       "         date  year     gold  agnico   coal  copper     dax       dji  \\\n",
       "0  2016-01-04  2016  1078.47   26.94  49.90   25.66  348.83  17148.94   \n",
       "1  2016-01-05  2016  1079.33   27.62  50.25   25.95  350.98  17158.66   \n",
       "2  2016-01-06  2016  1098.90   28.45  51.50   25.20  350.07  16906.51   \n",
       "3  2016-01-07  2016  1103.45   29.99  51.25   24.56  341.24  16514.10   \n",
       "4  2016-01-08  2016  1104.32   29.56  50.25   24.07  338.23  16346.45   \n",
       "\n",
       "       djt   eur  ...   nasdaq  newmont  n_gas    oil  palladium  platinum  \\\n",
       "0  7352.59  1.08  ...  4903.09    18.44   2.33  36.76     544.55    881.65   \n",
       "1  7363.95  1.07  ...  4891.43    18.42   2.33  35.97     536.20    890.30   \n",
       "2  7217.05  1.08  ...  4835.76    18.56   2.27  33.97     505.60    879.55   \n",
       "3  6995.39  1.09  ...  4689.43    18.86   2.38  33.27     493.50    875.55   \n",
       "4  6946.36  1.09  ...  4643.63    18.01   2.47  33.16     494.20    880.00   \n",
       "\n",
       "   rgold    rio  silver      snp  \n",
       "0  37.18  28.41   13.98  2012.66  \n",
       "1  36.49  28.65   13.97  2016.71  \n",
       "2  37.02  27.03   14.07  1990.26  \n",
       "3  38.74  25.81   14.20  1943.09  \n",
       "4  37.59  25.07   13.94  1922.03  \n",
       "\n",
       "[5 rows x 21 columns]"
      ]
     },
     "metadata": {},
     "output_type": "display_data"
    },
    {
     "data": {
      "text/plain": [
       "(1893, 21)"
      ]
     },
     "execution_count": 2,
     "metadata": {},
     "output_type": "execute_result"
    }
   ],
   "source": [
    "df = pd.read_csv(\"data_clean.csv\")\n",
    "df = df.drop(df.columns[0], axis = 1)\n",
    "display(df.head())\n",
    "df.shape"
   ]
  },
  {
   "cell_type": "code",
   "execution_count": 92,
   "metadata": {},
   "outputs": [
    {
     "data": {
      "image/png": "[encoded data removed]",
      "text/plain": [
       "<Figure size 640x480 with 1 Axes>"
      ]
     },
     "metadata": {},
     "output_type": "display_data"
    }
   ],
   "source": [
    "plt.plot(df.gold)\n",
    "plt.show()"
   ]
  },
  {
   "cell_type": "code",
   "execution_count": 3,
   "metadata": {},
   "outputs": [],
   "source": [
    "from sklearn import linear_model\n",
    "from sklearn.metrics import r2_score\n",
    "from sklearn.neural_network import MLPRegressor\n",
    "from sklearn.neighbors import KNeighborsRegressor\n",
    "from sklearn.ensemble import RandomForestRegressor\n",
    "from sklearn import metrics\n",
    "from sklearn.preprocessing import MinMaxScaler\n",
    "from sklearn.model_selection import train_test_split"
   ]
  },
  {
   "attachments": {},
   "cell_type": "markdown",
   "metadata": {},
   "source": [
    "### FUNCTION SHIFT PRICE"
   ]
  },
  {
   "cell_type": "code",
   "execution_count": 38,
   "metadata": {},
   "outputs": [],
   "source": [
    "def shift_price(df, days_ahead):\n",
    "    dftry = df.copy()\n",
    "    dftry = df.reset_index(drop = True)\n",
    "    dftry_gold = dftry[[\"date\",\"gold\"]].copy()\n",
    "    dftry_ngold = dftry.drop(\"gold\", axis = 1)\n",
    "    hidden = dftry_ngold.iloc[-days_ahead:]\n",
    "    dftry_ngold = dftry_ngold.shift(days_ahead, axis = 0)\n",
    "    dftry = [dftry_gold, dftry_ngold]\n",
    "    dftry = pd.concat(dftry, axis = 1)\n",
    "    dftry = dftry.iloc[days_ahead:]\n",
    "    new = dftry.iloc[-days_ahead:]\n",
    "    data = dftry.iloc[0:-days_ahead]\n",
    "    return new, data, hidden"
   ]
  },
  {
   "attachments": {},
   "cell_type": "markdown",
   "metadata": {},
   "source": [
    "### all prediction methods as functions"
   ]
  },
  {
   "cell_type": "code",
   "execution_count": 42,
   "metadata": {},
   "outputs": [],
   "source": [
    "def linreg_predict(xtrain, xtest , xnew, ytrain, ytest, ynew, hidden):\n",
    "    regr = linear_model.LinearRegression()\n",
    "    regr.fit(xtrain, ytrain)\n",
    "\n",
    "    pred_train = regr.predict(xtrain)\n",
    "    r2_train = r2_score(ytrain, pred_train)\n",
    "\n",
    "    pred_test = regr.predict(xtest)\n",
    "    r2_test = r2_score(ytest, pred_test)\n",
    "    \n",
    "    pred_new = regr.predict(xnew)\n",
    "    r2_new = r2_score(ynew, pred_new)\n",
    "\n",
    "    pred_hidden = regr.predict(hidden)\n",
    "    pred_hidden = pd.DataFrame(pred_hidden, columns = [\"linreg\"])\n",
    "    pred_hidden = round(pred_hidden,2)\n",
    "\n",
    "    return r2_train, r2_test, r2_new, pred_hidden"
   ]
  },
  {
   "cell_type": "code",
   "execution_count": 74,
   "metadata": {},
   "outputs": [],
   "source": [
    "def mlp_predict(xtrain, xtest, xnew, ytrain, ytest, ynew, hidden):\n",
    "    regr = MLPRegressor(random_state = 46, max_iter = 700)\n",
    "    regr.fit(xtrain, ytrain)\n",
    "\n",
    "    r2_train = regr.score(xtrain, ytrain)\n",
    "    r2_test = regr.score(xtest, ytest)\n",
    "    r2_new = regr.score(xnew, ynew)\n",
    "\n",
    "    pred_hidden = regr.predict(hidden)\n",
    "    pred_hidden = pd.DataFrame(pred_hidden, columns = [\"mlp\"])\n",
    "    pred_hidden = round(pred_hidden,2)\n",
    "    \n",
    "    return r2_train, r2_test, r2_new, pred_hidden"
   ]
  },
  {
   "cell_type": "code",
   "execution_count": 76,
   "metadata": {},
   "outputs": [],
   "source": [
    "def knn_predict(xtrain, xtest, xnew, ytrain, ytest, ynew, hidden):\n",
    "    regr = KNeighborsRegressor(n_neighbors=5, p = 1)\n",
    "    regr.fit(xtrain, ytrain)\n",
    "\n",
    "    r2_train = regr.score(xtrain, ytrain)\n",
    "    r2_test = regr.score(xtest, ytest)\n",
    "    r2_new = regr.score(xnew, ynew)\n",
    "\n",
    "    pred_hidden = regr.predict(hidden)\n",
    "    pred_hidden = pd.DataFrame(pred_hidden, columns = [\"knn\"])\n",
    "    pred_hidden = round(pred_hidden,2)\n",
    "    \n",
    "    return r2_train, r2_test, r2_new, pred_hidden"
   ]
  },
  {
   "cell_type": "code",
   "execution_count": 63,
   "metadata": {},
   "outputs": [],
   "source": [
    "def rforest_predict(xtrain, xtest, xnew, ytrain, ytest, ynew, hidden):\n",
    "    regr = RandomForestRegressor(max_depth = 2, random_state = 31)\n",
    "    regr.fit(xtrain, ytrain)\n",
    "\n",
    "    r2_train = regr.score(xtrain, ytrain, sample_weight = None)\n",
    "    r2_test = regr.score(xtest, ytest, sample_weight = None)\n",
    "    r2_new = regr.score(xnew, ynew, sample_weight = None)\n",
    "\n",
    "    pred_hidden = regr.predict(hidden)\n",
    "    pred_hidden = pd.DataFrame(pred_hidden, columns = [\"random_forest\"])\n",
    "    pred_hidden = round(pred_hidden,2)\n",
    "\n",
    "    return r2_train, r2_test, r2_new, pred_hidden"
   ]
  },
  {
   "attachments": {},
   "cell_type": "markdown",
   "metadata": {},
   "source": [
    "### other functions"
   ]
  },
  {
   "cell_type": "code",
   "execution_count": 85,
   "metadata": {},
   "outputs": [],
   "source": [
    "def drop_corr(df):\n",
    "    corr = df.corr()\n",
    "    to_drop = corr.index[corr.gold < 0.8].tolist()\n",
    "    return to_drop"
   ]
  },
  {
   "cell_type": "code",
   "execution_count": 90,
   "metadata": {},
   "outputs": [],
   "source": [
    "def run_predictions(df, target, days_ahead):\n",
    "    new, data, hidden = shift_price(df, days_ahead)\n",
    "    to_drop = drop_corr(data)\n",
    "    X = data.drop(target + to_drop, axis = 1)\n",
    "    y = data[target].copy()\n",
    "    X_new = new.drop(target + to_drop, axis = 1)\n",
    "    y_new = new[target].copy()\n",
    "    X_train, X_test, y_train, y_test = train_test_split(X, y, test_size=0.3, random_state=76)\n",
    "    X_hidden = hidden.drop(to_drop, axis = 1)\n",
    "    num_train = X_train.select_dtypes(np.number)\n",
    "    num_test = X_test.select_dtypes(np.number)\n",
    "    num_new = X_new.select_dtypes(np.number)\n",
    "    num_hidden = X_hidden.select_dtypes(np.number)\n",
    "\n",
    "    transformer = MinMaxScaler().fit(num_train)\n",
    "    xtrain = transformer.transform(num_train)\n",
    "    xtest = transformer.transform(num_test)\n",
    "    xnew = transformer.transform(num_new)\n",
    "    xhidden = transformer.transform(num_hidden)\n",
    "\n",
    "    a1,b1,c1,d1 = linreg_predict(xtrain, xtest, xnew, y_train, y_test, y_new, xhidden)\n",
    "    a2,b2,c2,d2 = mlp_predict(xtrain, xtest, xnew, y_train, y_test, y_new, xhidden)\n",
    "    a3,b3,c3,d3 = knn_predict(xtrain, xtest, xnew, y_train, y_test, y_new, xhidden)\n",
    "    a4,b4,c4,d4 = rforest_predict(xtrain, xtest, xnew, y_train, y_test, y_new, xhidden)\n",
    "\n",
    "    return a1,b1,c1,d1,a2,b2,c2,d2,a3,b3,c3,d3,a4,b4,c4,d4"
   ]
  },
  {
   "cell_type": "code",
   "execution_count": 34,
   "metadata": {},
   "outputs": [],
   "source": [
    "import warnings\n",
    "from warnings import simplefilter\n",
    "from sklearn.exceptions import ConvergenceWarning\n",
    "from sklearn.exceptions import DataConversionWarning\n",
    "simplefilter(\"ignore\", category=ConvergenceWarning)\n",
    "warnings.filterwarnings(action='ignore', category=DataConversionWarning)\n",
    "pd.options.mode.chained_assignment = None"
   ]
  },
  {
   "cell_type": "code",
   "execution_count": 65,
   "metadata": {},
   "outputs": [],
   "source": [
    "def get_result(df, target, days_ahead):\n",
    "    new_data_size = []\n",
    "    lr_train = []\n",
    "    lr_test = []\n",
    "    lr_new = []\n",
    "    mlp_train = []\n",
    "    mlp_test = []\n",
    "    mlp_new = []\n",
    "    knn_train = []\n",
    "    knn_test = []\n",
    "    knn_new = []\n",
    "    r_forest_train = []\n",
    "    r_forest_test = []\n",
    "    r_forest_new = []\n",
    "    pred_linreg = []\n",
    "    pred_mlp = []\n",
    "    pred_knn = []\n",
    "    pred_abr = []\n",
    "    pred_r_forest = []\n",
    "    res = pd.DataFrame()\n",
    "    new_scores = pd.DataFrame()\n",
    "    best_score = []\n",
    "    \n",
    "    for i in days_ahead:\n",
    "        new_data_size.append(i)\n",
    "        a1,b1,c1,d1,a2,b2,c2,d2,a3,b3,c3,d3,a4,b4,c4,d4 = run_predictions(df, target, i)\n",
    "        lr_train.append(a1)\n",
    "        lr_test.append(b1)\n",
    "        lr_new.append(c1)\n",
    "        mlp_train.append(a2)\n",
    "        mlp_test.append(b2)\n",
    "        mlp_new.append(c2)\n",
    "        knn_train.append(a3)\n",
    "        knn_test.append(b3)\n",
    "        knn_new.append(c3)\n",
    "        r_forest_train.append(a4)\n",
    "        r_forest_test.append(b4)\n",
    "        r_forest_new.append(c4)\n",
    "        pred_linreg.append(d1)\n",
    "        pred_mlp.append(d2)\n",
    "        pred_knn.append(d3)\n",
    "        pred_r_forest.append(d4)\n",
    "        best_score.extend([c1,c2,c3,c4])\n",
    "    \n",
    "    res[\"new_data_size\"] = new_data_size\n",
    "    res[\"linreg_train\"] = lr_train\n",
    "    res[\"linreg_test\"] = lr_test\n",
    "    res[\"linreg_new\"] = lr_new\n",
    "    res[\"mlp_train\"] = mlp_train\n",
    "    res[\"mlp_test\"] = mlp_test\n",
    "    res[\"mlp_new\"] = mlp_new\n",
    "    res[\"knn_train\"] = knn_train\n",
    "    res[\"knn_test\"] = knn_test\n",
    "    res[\"knn_new\"] = knn_new\n",
    "    res[\"random_forest_train\"] = r_forest_train\n",
    "    res[\"random_forest_test\"] = r_forest_test\n",
    "    res[\"random_forest_new\"] = r_forest_new\n",
    "    \n",
    "    # make some sound to notify when the process finishes. this could take like until 45 mins, \n",
    "    # depending on the iteration\n",
    "    import winsound\n",
    "    import time\n",
    "    do = 500\n",
    "    duration = 900\n",
    "    for i in range(3):\n",
    "        winsound.Beep(do, duration)\n",
    "        time.sleep(.2)\n",
    "\n",
    "    return res"
   ]
  },
  {
   "cell_type": "code",
   "execution_count": 36,
   "metadata": {},
   "outputs": [],
   "source": [
    "def display_all_max_r2(res):\n",
    "    print(\"Linear Regression\")\n",
    "    print(\"highest prediction score in Linear Regression:\", res.linreg_new.max())\n",
    "    display(res.loc[res.linreg_new == res.linreg_new.max(), [\"new_data_size\",\"linreg_train\",\"linreg_test\",\"linreg_new\"]])\n",
    "    print(\"\\n\\nMulti-Layer-Perceptron\")\n",
    "    print(\"highest prediction score in Multi-Layer Perceptron:\", res.mlp_new.max())\n",
    "    display(res.loc[res.mlp_new == res.mlp_new.max(), [\"new_data_size\",\"mlp_train\",\"mlp_test\",\"mlp_new\"]])\n",
    "    print(\"\\n\\nK-Nearest Neighbors\")\n",
    "    print(\"highest prediction score in K-Nearest Neighbors:\", res.knn_new.max())\n",
    "    display(res.loc[res.knn_new == res.knn_new.max(), [\"new_data_size\",\"knn_train\",\"knn_test\",\"knn_new\"]])\n",
    "    print(\"\\n\\nRandom Forest\")\n",
    "    print(\"highest prediction score in Random Forest:\", res.random_forest_new.max())\n",
    "    display(res.loc[res.random_forest_new == res.random_forest_new.max(), [\"new_data_size\",\"random_forest_train\",\"random_forest_test\",\"random_forest_new\"]])\n",
    "    "
   ]
  },
  {
   "attachments": {},
   "cell_type": "markdown",
   "metadata": {},
   "source": [
    "### execute"
   ]
  },
  {
   "cell_type": "code",
   "execution_count": 91,
   "metadata": {},
   "outputs": [
    {
     "name": "stdout",
     "output_type": "stream",
     "text": [
      "Linear Regression\n",
      "highest prediction score in Linear Regression: 0.5543048320727553\n"
     ]
    },
    {
     "data": {
      "text/html": [
       "<div>\n",
       "<style scoped>\n",
       "    .dataframe tbody tr th:only-of-type {\n",
       "        vertical-align: middle;\n",
       "    }\n",
       "\n",
       "    .dataframe tbody tr th {\n",
       "        vertical-align: top;\n",
       "    }\n",
       "\n",
       "    .dataframe thead th {\n",
       "        text-align: right;\n",
       "    }\n",
       "</style>\n",
       "<table border=\"1\" class=\"dataframe\">\n",
       "  <thead>\n",
       "    <tr style=\"text-align: right;\">\n",
       "      <th></th>\n",
       "      <th>new_data_size</th>\n",
       "      <th>linreg_train</th>\n",
       "      <th>linreg_test</th>\n",
       "      <th>linreg_new</th>\n",
       "    </tr>\n",
       "  </thead>\n",
       "  <tbody>\n",
       "    <tr>\n",
       "      <th>120</th>\n",
       "      <td>242</td>\n",
       "      <td>0.83275</td>\n",
       "      <td>0.827202</td>\n",
       "      <td>0.554305</td>\n",
       "    </tr>\n",
       "  </tbody>\n",
       "</table>\n",
       "</div>"
      ],
      "text/plain": [
       "     new_data_size  linreg_train  linreg_test  linreg_new\n",
       "120            242       0.83275     0.827202    0.554305"
      ]
     },
     "metadata": {},
     "output_type": "display_data"
    },
    {
     "name": "stdout",
     "output_type": "stream",
     "text": [
      "\n",
      "\n",
      "Multi-Layer-Perceptron\n",
      "highest prediction score in Multi-Layer Perceptron: -1.3093476148369971\n"
     ]
    },
    {
     "data": {
      "text/html": [
       "<div>\n",
       "<style scoped>\n",
       "    .dataframe tbody tr th:only-of-type {\n",
       "        vertical-align: middle;\n",
       "    }\n",
       "\n",
       "    .dataframe tbody tr th {\n",
       "        vertical-align: top;\n",
       "    }\n",
       "\n",
       "    .dataframe thead th {\n",
       "        text-align: right;\n",
       "    }\n",
       "</style>\n",
       "<table border=\"1\" class=\"dataframe\">\n",
       "  <thead>\n",
       "    <tr style=\"text-align: right;\">\n",
       "      <th></th>\n",
       "      <th>new_data_size</th>\n",
       "      <th>mlp_train</th>\n",
       "      <th>mlp_test</th>\n",
       "      <th>mlp_new</th>\n",
       "    </tr>\n",
       "  </thead>\n",
       "  <tbody>\n",
       "    <tr>\n",
       "      <th>15</th>\n",
       "      <td>32</td>\n",
       "      <td>0.006638</td>\n",
       "      <td>-0.020914</td>\n",
       "      <td>-1.309348</td>\n",
       "    </tr>\n",
       "  </tbody>\n",
       "</table>\n",
       "</div>"
      ],
      "text/plain": [
       "    new_data_size  mlp_train  mlp_test   mlp_new\n",
       "15             32   0.006638 -0.020914 -1.309348"
      ]
     },
     "metadata": {},
     "output_type": "display_data"
    },
    {
     "name": "stdout",
     "output_type": "stream",
     "text": [
      "\n",
      "\n",
      "K-Nearest Neighbors\n",
      "highest prediction score in K-Nearest Neighbors: 0.514231030096519\n"
     ]
    },
    {
     "data": {
      "text/html": [
       "<div>\n",
       "<style scoped>\n",
       "    .dataframe tbody tr th:only-of-type {\n",
       "        vertical-align: middle;\n",
       "    }\n",
       "\n",
       "    .dataframe tbody tr th {\n",
       "        vertical-align: top;\n",
       "    }\n",
       "\n",
       "    .dataframe thead th {\n",
       "        text-align: right;\n",
       "    }\n",
       "</style>\n",
       "<table border=\"1\" class=\"dataframe\">\n",
       "  <thead>\n",
       "    <tr style=\"text-align: right;\">\n",
       "      <th></th>\n",
       "      <th>new_data_size</th>\n",
       "      <th>knn_train</th>\n",
       "      <th>knn_test</th>\n",
       "      <th>knn_new</th>\n",
       "    </tr>\n",
       "  </thead>\n",
       "  <tbody>\n",
       "    <tr>\n",
       "      <th>114</th>\n",
       "      <td>230</td>\n",
       "      <td>0.988227</td>\n",
       "      <td>0.986103</td>\n",
       "      <td>0.514231</td>\n",
       "    </tr>\n",
       "  </tbody>\n",
       "</table>\n",
       "</div>"
      ],
      "text/plain": [
       "     new_data_size  knn_train  knn_test   knn_new\n",
       "114            230   0.988227  0.986103  0.514231"
      ]
     },
     "metadata": {},
     "output_type": "display_data"
    },
    {
     "name": "stdout",
     "output_type": "stream",
     "text": [
      "\n",
      "\n",
      "Random Forest\n",
      "highest prediction score in Random Forest: 0.19958226585320638\n"
     ]
    },
    {
     "data": {
      "text/html": [
       "<div>\n",
       "<style scoped>\n",
       "    .dataframe tbody tr th:only-of-type {\n",
       "        vertical-align: middle;\n",
       "    }\n",
       "\n",
       "    .dataframe tbody tr th {\n",
       "        vertical-align: top;\n",
       "    }\n",
       "\n",
       "    .dataframe thead th {\n",
       "        text-align: right;\n",
       "    }\n",
       "</style>\n",
       "<table border=\"1\" class=\"dataframe\">\n",
       "  <thead>\n",
       "    <tr style=\"text-align: right;\">\n",
       "      <th></th>\n",
       "      <th>new_data_size</th>\n",
       "      <th>random_forest_train</th>\n",
       "      <th>random_forest_test</th>\n",
       "      <th>random_forest_new</th>\n",
       "    </tr>\n",
       "  </thead>\n",
       "  <tbody>\n",
       "    <tr>\n",
       "      <th>132</th>\n",
       "      <td>266</td>\n",
       "      <td>0.929226</td>\n",
       "      <td>0.936161</td>\n",
       "      <td>0.199582</td>\n",
       "    </tr>\n",
       "  </tbody>\n",
       "</table>\n",
       "</div>"
      ],
      "text/plain": [
       "     new_data_size  random_forest_train  random_forest_test  random_forest_new\n",
       "132            266             0.929226            0.936161           0.199582"
      ]
     },
     "metadata": {},
     "output_type": "display_data"
    }
   ],
   "source": [
    "target = [\"gold\"]\n",
    "days_ahead = range(2,941,2)\n",
    "res= get_result(df, target, days_ahead)\n",
    "display_all_max_r2(res)"
   ]
  },
  {
   "cell_type": "code",
   "execution_count": null,
   "metadata": {},
   "outputs": [],
   "source": [
    "target = [\"gold\"]\n",
    "days_ahead = \n",
    "a1,b1,c1,d1,a2,b2,c2,d2,a3,b3,c3,d3,a4,b4,c4,d4 = run_predictions(df, days_ahead, target)"
   ]
  }
 ],
 "metadata": {
  "kernelspec": {
   "display_name": "Python 3",
   "language": "python",
   "name": "python3"
  },
  "language_info": {
   "codemirror_mode": {
    "name": "ipython",
    "version": 3
   },
   "file_extension": ".py",
   "mimetype": "text/x-python",
   "name": "python",
   "nbconvert_exporter": "python",
   "pygments_lexer": "ipython3",
   "version": "3.10.2"
  },
  "orig_nbformat": 4,
  "vscode": {
   "interpreter": {
    "hash": "1acc24bd1901f9ae8c29efb6830fcc1ca9fe0219dd00f8f1dc1b91856def15a9"
   }
  }
 },
 "nbformat": 4,
 "nbformat_minor": 2
}
