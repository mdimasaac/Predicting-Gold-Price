{
 "cells": [
  {
   "cell_type": "code",
   "execution_count": 5,
   "metadata": {},
   "outputs": [],
   "source": [
    "import pymysql\n",
    "from sqlalchemy import create_engine\n",
    "from sqlalchemy import MetaData\n",
    "import getpass\n",
    "password = getpass.getpass()\n",
    "from sqlalchemy_utils import database_exists, create_database\n",
    "import pandas as pd"
   ]
  },
  {
   "cell_type": "code",
   "execution_count": 6,
   "metadata": {},
   "outputs": [],
   "source": [
    "def date_formatting (df, col):\n",
    "    df[col] = df[col].astype(\"datetime64[ns]\")\n",
    "    df[\"year\"] = pd.DatetimeIndex(df[col]).year\n",
    "    df = df.sort_values(by=col, ascending = 0)\n",
    "    df = df.drop_duplicates(subset = [col])\n",
    "    return df\n",
    "\n",
    "def snake_case(df):\n",
    "    cols=[]\n",
    "    for i in df.columns:\n",
    "        cols.append(i.lower())\n",
    "    df.columns = cols\n",
    "    df.columns = df.columns.str.replace(' ', '_')\n",
    "    return df"
   ]
  },
  {
   "cell_type": "code",
   "execution_count": 77,
   "metadata": {},
   "outputs": [],
   "source": [
    "gold = pd.read_csv(\"gold price.csv\")\n",
    "silver = pd.read_csv(\"silver price.csv\")\n",
    "dji = pd.read_csv(\"dow jones industrial stock price.csv\")\n",
    "djt = pd.read_csv(\"dow jones transportation stock price.csv\")\n",
    "snp = pd.read_csv(\"snp stock price.csv\")\n",
    "platinum = pd.read_csv(\"platinum price.csv\")\n",
    "oil = pd.read_csv(\"oil price.csv\")\n",
    "palladium = pd.read_csv(\"palladium price.csv\")\n",
    "eur = pd.read_csv(\"eur price.csv\")\n",
    "ngas = pd.read_csv(\"natural gas price.csv\")\n",
    "dax = pd.read_csv(\"dax transportation & logistics price.csv\")\n",
    "coal = pd.read_csv(\"coal price.csv\")\n",
    "nasdaq = pd.read_csv(\"nasdaq price.csv\")\n",
    "gbp = pd.read_csv(\"gbp price.csv\")\n",
    "copper = pd.read_csv(\"southern copper stock price.csv\")\n",
    "rio = pd.read_csv(\"rio tinto stock price.csv\")\n",
    "rgold = pd.read_csv(\"royal gold price.csv\")\n",
    "agnico = pd.read_csv(\"agnico mines price.csv\")\n",
    "newmont = pd.read_csv(\"newmont stock price.csv\")\n"
   ]
  },
  {
   "cell_type": "code",
   "execution_count": 78,
   "metadata": {},
   "outputs": [],
   "source": [
    "nasdaq = nasdaq[[\"Date\",\"Close\"]]\n",
    "nasdaq = nasdaq.rename(columns = {\"Close\":\"Price\"})\n",
    "rgold = rgold[[\"Date\",\"Close\"]]\n",
    "rgold = rgold.rename(columns = {\"Close\":\"Price\"})\n",
    "agnico = agnico[[\"Date\",\"Close\"]]\n",
    "agnico = agnico.rename(columns = {\"Close\":\"Price\"})\n",
    "platinum = platinum[[\"Date\",\"Price\"]]\n",
    "oil = oil[[\"Date\",\"Price\"]]\n",
    "palladium = palladium[[\"Date\",\"Price\"]]\n",
    "eur = eur[[\"Date\",\"Price\"]]\n",
    "ngas = ngas[[\"Date\",\"Price\"]]\n",
    "dax = dax[[\"Date\",\"Price\"]]\n",
    "coal = coal[[\"Date\",\"Price\"]]\n",
    "gbp = gbp[[\"Date\",\"Price\"]]\n",
    "# if this cell makes an error, try running 1 previous cell, and then run this one."
   ]
  },
  {
   "cell_type": "code",
   "execution_count": 80,
   "metadata": {},
   "outputs": [],
   "source": [
    "# dp = [platinum,oil,palladium,eur,ngas,dax,coal,gbp]\n",
    "# dc = [nasdaq,rgold,agnico]\n",
    "df_all = [gold,silver,dji,djt,snp,platinum,oil,palladium,eur,ngas,dax,coal,nasdaq,gbp,copper,rio,rgold,agnico,newmont]\n",
    "for i in df_all:\n",
    "    i = snake_case(i)\n",
    "    i = date_formatting(i, \"date\")"
   ]
  },
  {
   "cell_type": "code",
   "execution_count": 81,
   "metadata": {},
   "outputs": [],
   "source": [
    "connection_string = 'mysql+pymysql://root:' + password + '@localhost/price_predict'\n",
    "engine = create_engine(connection_string)\n",
    "if not database_exists(engine.url):\n",
    "    create_database(engine.url)"
   ]
  },
  {
   "cell_type": "code",
   "execution_count": 82,
   "metadata": {},
   "outputs": [
    {
     "data": {
      "text/plain": [
       "1791"
      ]
     },
     "execution_count": 82,
     "metadata": {},
     "output_type": "execute_result"
    }
   ],
   "source": [
    "# gold,silver,dji,djt,snp,platinum,oil,palladium,eur,ngas,dax,coal,nasdaq,gbp,copper,rio,rgold,agnico,newmont\n",
    "\n",
    "gold.to_sql(\"gold\", engine, if_exists = \"replace\")\n",
    "silver.to_sql(\"silver\", engine, if_exists = \"replace\")\n",
    "dji.to_sql(\"dji\", engine, if_exists = \"replace\")\n",
    "djt.to_sql(\"djt\", engine, if_exists = \"replace\")\n",
    "snp.to_sql(\"snp\", engine, if_exists = \"replace\")\n",
    "platinum.to_sql(\"platinum\", engine, if_exists = \"replace\")\n",
    "oil.to_sql(\"oil\", engine, if_exists = \"replace\")\n",
    "palladium.to_sql(\"palladium\", engine, if_exists = \"replace\")\n",
    "eur.to_sql(\"eur\", engine, if_exists = \"replace\")\n",
    "ngas.to_sql(\"ngas\", engine, if_exists = \"replace\")\n",
    "dax.to_sql(\"dax\", engine, if_exists = \"replace\")\n",
    "coal.to_sql(\"coal\", engine, if_exists = \"replace\")\n",
    "nasdaq.to_sql(\"nasdaq\", engine, if_exists = \"replace\")\n",
    "gbp.to_sql(\"gbp\", engine, if_exists = \"replace\")\n",
    "copper.to_sql(\"copper\", engine, if_exists = \"replace\")\n",
    "rio.to_sql(\"rio\", engine, if_exists = \"replace\")\n",
    "rgold.to_sql(\"rgold\", engine, if_exists = \"replace\")\n",
    "agnico.to_sql(\"agnico\", engine, if_exists = \"replace\")\n",
    "newmont.to_sql(\"newmont\", engine, if_exists = \"replace\")"
   ]
  },
  {
   "cell_type": "code",
   "execution_count": 85,
   "metadata": {},
   "outputs": [
    {
     "data": {
      "text/plain": [
       "(1895, 21)"
      ]
     },
     "execution_count": 85,
     "metadata": {},
     "output_type": "execute_result"
    }
   ],
   "source": [
    "query = '''\n",
    "select gold.date, gold.year, gold.price as gold,\n",
    "agnico.price as agnico, coal.price as coal,\n",
    "copper.price as copper, dax.price as dax,\n",
    "dji.price as dji, djt.price as djt, eur.price as eur,\n",
    "gbp.price as gbp, nasdaq.price as nasdaq,\n",
    "newmont.price as newmont, ngas.price as n_gas,\n",
    "oil.price as oil, palladium.price as palladium,\n",
    "platinum.price as platinum, rgold.price as rgold,\n",
    "rio.price as rio, silver.price as silver, snp.price as snp\n",
    "from gold left join agnico on gold.date = agnico.date\n",
    "left join coal on gold.date = coal.date\n",
    "left join copper on gold.date = copper.date\n",
    "left join dax on gold.date = dax.date\n",
    "left join dji on gold.date = dji.date\n",
    "left join djt on gold.date = djt.date\n",
    "left join eur on gold.date = eur.date\n",
    "left join gbp on gold.date = gbp.date\n",
    "left join nasdaq on gold.date = nasdaq.date\n",
    "left join newmont on gold.date = newmont.date\n",
    "left join ngas on gold.date = ngas.date\n",
    "left join oil on gold.date = oil.date\n",
    "left join palladium on gold.date = palladium.date\n",
    "left join platinum on gold.date = platinum.date\n",
    "left join rgold on gold.date = rgold.date\n",
    "left join rio on gold.date = rio.date\n",
    "left join silver on gold.date = silver.date\n",
    "left join snp on gold.date = snp.date\n",
    "order by gold.date asc;;\n",
    "'''\n",
    "data = pd.read_sql_query(query, engine)\n",
    "data.shape"
   ]
  },
  {
   "cell_type": "code",
   "execution_count": 86,
   "metadata": {},
   "outputs": [],
   "source": [
    "data.to_csv(\"data_raw.csv\")"
   ]
  }
 ],
 "metadata": {
  "kernelspec": {
   "display_name": "Python 3",
   "language": "python",
   "name": "python3"
  },
  "language_info": {
   "codemirror_mode": {
    "name": "ipython",
    "version": 3
   },
   "file_extension": ".py",
   "mimetype": "text/x-python",
   "name": "python",
   "nbconvert_exporter": "python",
   "pygments_lexer": "ipython3",
   "version": "3.10.2"
  },
  "orig_nbformat": 4,
  "vscode": {
   "interpreter": {
    "hash": "1acc24bd1901f9ae8c29efb6830fcc1ca9fe0219dd00f8f1dc1b91856def15a9"
   }
  }
 },
 "nbformat": 4,
 "nbformat_minor": 2
}
