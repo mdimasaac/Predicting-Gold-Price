{
 "cells": [
  {
   "cell_type": "code",
   "execution_count": 6,
   "metadata": {},
   "outputs": [],
   "source": [
    "import requests\n",
    "from bs4 import BeautifulSoup as bs4\n",
    "import pandas as pd\n",
    "import numpy as np\n",
    "import matplotlib.pyplot as plt\n",
    "import seaborn as sns"
   ]
  },
  {
   "attachments": {},
   "cell_type": "markdown",
   "metadata": {},
   "source": [
    "##### check the full graph of gold price growth."
   ]
  },
  {
   "cell_type": "code",
   "execution_count": 2,
   "metadata": {},
   "outputs": [
    {
     "data": {
      "image/png": "[encoded data removed]",
      "text/plain": [
       "<Figure size 640x480 with 1 Axes>"
      ]
     },
     "metadata": {},
     "output_type": "display_data"
    }
   ],
   "source": [
    "gold_full = pd.read_csv(\"./../files/gold price full.csv\")\n",
    "sns.lineplot(x = \"year\", y = \"price\", data = gold_full.pivot_table(index = \"year\", aggfunc = {\"price\":\"mean\"}))\n",
    "plt.grid()\n",
    "plt.show()"
   ]
  },
  {
   "attachments": {},
   "cell_type": "markdown",
   "metadata": {},
   "source": [
    "get the date and price of the pitfall in around 2015"
   ]
  },
  {
   "cell_type": "code",
   "execution_count": 3,
   "metadata": {},
   "outputs": [
    {
     "data": {
      "text/html": [
       "<div>\n",
       "<style scoped>\n",
       "    .dataframe tbody tr th:only-of-type {\n",
       "        vertical-align: middle;\n",
       "    }\n",
       "\n",
       "    .dataframe tbody tr th {\n",
       "        vertical-align: top;\n",
       "    }\n",
       "\n",
       "    .dataframe thead th {\n",
       "        text-align: right;\n",
       "    }\n",
       "</style>\n",
       "<table border=\"1\" class=\"dataframe\">\n",
       "  <thead>\n",
       "    <tr style=\"text-align: right;\">\n",
       "      <th></th>\n",
       "      <th>date</th>\n",
       "      <th>price</th>\n",
       "      <th>year</th>\n",
       "    </tr>\n",
       "  </thead>\n",
       "  <tbody>\n",
       "    <tr>\n",
       "      <th>6158</th>\n",
       "      <td>2015-12-02</td>\n",
       "      <td>1053.8</td>\n",
       "      <td>2015</td>\n",
       "    </tr>\n",
       "  </tbody>\n",
       "</table>\n",
       "</div>"
      ],
      "text/plain": [
       "            date   price  year\n",
       "6158  2015-12-02  1053.8  2015"
      ]
     },
     "execution_count": 3,
     "metadata": {},
     "output_type": "execute_result"
    }
   ],
   "source": [
    "gold = gold_full[gold_full.year > 2012]\n",
    "gold[gold.price == gold.price.min()]"
   ]
  },
  {
   "attachments": {},
   "cell_type": "markdown",
   "metadata": {},
   "source": [
    "get all the gold price starting around that date. 2016 would be a good starting point. it makes web scraping easier."
   ]
  },
  {
   "cell_type": "code",
   "execution_count": 5,
   "metadata": {},
   "outputs": [],
   "source": [
    "gold = gold[~(gold[\"date\"] < \"2016-01-01\")]\n",
    "gold.to_csv(\"gold price.csv\", index = False)"
   ]
  },
  {
   "attachments": {},
   "cell_type": "markdown",
   "metadata": {},
   "source": [
    "##### scrape silver price starting from 2016"
   ]
  },
  {
   "cell_type": "code",
   "execution_count": 24,
   "metadata": {},
   "outputs": [],
   "source": [
    "header = {\"User-Agent\":'Mozilla/5.0 (Windows NT 10.0; Win64; x64) AppleWebKit/537.36 (KHTML, like Gecko) Chrome/107.0.0.0 Safari/537.36'}\n",
    "silver_base_url = \"https://www.usagold.com/daily-silver-price-history/?ddYears=\"\n",
    "years = list(range(2016,2023,1))\n",
    "silver_date = []\n",
    "silver_price = []\n",
    "silver_url = []\n",
    "\n",
    "# defining multiple urls for scraping gold price from each year (1992 - 2017)\n",
    "for year in years:\n",
    "    silver_url.append(silver_base_url+str(year))\n",
    "\n",
    "# start the scraping for each generated url\n",
    "for url in silver_url:\n",
    "    r = requests.get(url, headers = header)\n",
    "    c = r.content\n",
    "    soup = bs4(c, \"html.parser\")\n",
    "    prices = soup.find(\"div\",{\"id\":\"quotes\"})\n",
    "    table = prices.find(\"table\", {\"id\":\"pricehistorytable\"})\n",
    "    all = table.find_all(\"tr\")[2:]\n",
    "    for i in all:\n",
    "        try:\n",
    "            date = i.find_all(\"td\",{\"class\":\"text\"})[0].text\n",
    "        except:\n",
    "            date = None\n",
    "        try:\n",
    "            price = i.find_all(\"td\",{\"class\":\"text\"})[1].text\n",
    "        except:\n",
    "            price = None\n",
    "        silver_date.append(date)\n",
    "        silver_price.append(price)\n",
    "\n",
    "silver = pd.DataFrame()\n",
    "silver[\"date\"] = silver_date\n",
    "silver[\"price\"] = silver_price\n",
    "silver.to_csv(\"silver price.csv\", index = False)"
   ]
  },
  {
   "attachments": {},
   "cell_type": "markdown",
   "metadata": {},
   "source": [
    "##### scrape a few stock prices from yahoo finance"
   ]
  },
  {
   "cell_type": "code",
   "execution_count": 7,
   "metadata": {},
   "outputs": [],
   "source": [
    "from selenium import webdriver\n",
    "from selenium.webdriver.chrome.options import Options\n",
    "from selenium.webdriver.common.by import By\n",
    "from webdriver_manager.chrome import ChromeDriverManager\n",
    "from selenium.webdriver.common.keys import Keys\n",
    "# importing time to make delays\n",
    "import time"
   ]
  },
  {
   "cell_type": "code",
   "execution_count": 8,
   "metadata": {},
   "outputs": [],
   "source": [
    "def scraping_yfinance(url):\n",
    "    # --disabling browser popup notifications--\n",
    "    options = Options()\n",
    "    options.add_argument(\"--disable-notifications\")\n",
    "    # to prevent from being spotted as a robot\n",
    "    options.add_argument('--disable-gpu')\n",
    "    options.add_argument('user-agent=fake-useragent')\n",
    "    # installing chromedriver, so that we dont need to keep the chromedriver file\n",
    "    # that needs to be updated every once in a while. better install the latest automatically\n",
    "    driver = webdriver.Chrome(ChromeDriverManager().install())\n",
    "    # opens the browser, maximize window size\n",
    "    driver.maximize_window()\n",
    "    # opening url\n",
    "    driver.get(url)\n",
    "    # wait a bit until the \"I accept\" popup shows\n",
    "    time.sleep(2)\n",
    "    accept_xpath = \"/html/body/div/div/div/div/form/div[2]/div[2]/button\"\n",
    "    accept = driver.find_element(By.XPATH, accept_xpath)\n",
    "    # clicking \"I accept\", then wait a bit\n",
    "    accept.click()\n",
    "    time.sleep(1)\n",
    "    later_xpath = \"/html/body/div[1]/div/div/div[1]/div/div[4]/div/div/div[1]/div/div/div/div/div/section/button[2]\"\n",
    "    # clicking another popup\n",
    "    later = driver.find_element(By.XPATH, later_xpath)\n",
    "    later.click()\n",
    "    time.sleep(2)\n",
    "    # since the page is dynamic, meaning the full table wont be shown unless we scroll it,\n",
    "    # we use selenium to scroll through the page until the bottom page\n",
    "    # first, getting the page source before scrolling. we will compare it with the\n",
    "    # page source after scrolling.\n",
    "    # if html_before != html_after, it means the source is changed after scrolling.\n",
    "    # in that case, we want to keep scrolling until html_before == html_after\n",
    "    html1 = driver.page_source\n",
    "    end = False\n",
    "    while not end:\n",
    "        # Scroll down to bottom\n",
    "        driver.execute_script(\"window.scrollTo(0, window.scrollY + 1500)\") \n",
    "        time.sleep(.2)\n",
    "        driver.execute_script(\"window.scrollTo(0, window.scrollY + 1500)\") \n",
    "        time.sleep(.2)\n",
    "        driver.execute_script(\"window.scrollTo(0, window.scrollY + 1500)\") \n",
    "        time.sleep(.2)\n",
    "        # getting page source after scrolling\n",
    "        html2 = driver.page_source\n",
    "        # comparing html_before and html_after\n",
    "        if html1 == html2:\n",
    "            end = True\n",
    "        else:\n",
    "            html1 = html2\n",
    "    # YESSS!\n",
    "    # now that we have the complete page source, we scrape with beautiful soup\n",
    "    html = driver.page_source\n",
    "    soup = bs4(html)\n",
    "    # locating price table\n",
    "    table = soup.find(\"div\", {\"class\":\"Pb(10px) Ovx(a) W(100%)\"})\n",
    "    # getting all rows from that table (including dates, open price, closing price, etc)\n",
    "    all = table.find_all(\"tr\", {\"class\":\"BdT Bdc($seperatorColor) Ta(end) Fz(s) Whs(nw)\"})\n",
    "    dates = []\n",
    "    prices = []\n",
    "    df = pd.DataFrame()\n",
    "    # use loop to get only the 1st and 4th column of each row (date & close price),\n",
    "    # then save it in lists\n",
    "    for i in all:\n",
    "        try:\n",
    "            date = i.find_all(\"td\")[0].text\n",
    "        except:\n",
    "            date = None\n",
    "        dates.append(date)\n",
    "        try:\n",
    "            price = i.find_all(\"td\")[4].text\n",
    "        except:\n",
    "            price = None\n",
    "        prices.append(price)\n",
    "    # make a dataframe with existing lists\n",
    "    df[\"date\"] = dates\n",
    "    df[\"price\"] = prices\n",
    "    return df"
   ]
  },
  {
   "attachments": {},
   "cell_type": "markdown",
   "metadata": {},
   "source": [
    "write down the urls we want to scrape from"
   ]
  },
  {
   "cell_type": "code",
   "execution_count": 13,
   "metadata": {},
   "outputs": [
    {
     "name": "stderr",
     "output_type": "stream",
     "text": [
      "C:\\Users\\mdima\\AppData\\Local\\Temp\\ipykernel_9472\\4136513956.py:10: DeprecationWarning: executable_path has been deprecated, please pass in a Service object\n",
      "  driver = webdriver.Chrome(ChromeDriverManager().install())\n",
      "C:\\Users\\mdima\\AppData\\Local\\Temp\\ipykernel_9472\\4136513956.py:10: DeprecationWarning: executable_path has been deprecated, please pass in a Service object\n",
      "  driver = webdriver.Chrome(ChromeDriverManager().install())\n",
      "C:\\Users\\mdima\\AppData\\Local\\Temp\\ipykernel_9472\\4136513956.py:10: DeprecationWarning: executable_path has been deprecated, please pass in a Service object\n",
      "  driver = webdriver.Chrome(ChromeDriverManager().install())\n",
      "C:\\Users\\mdima\\AppData\\Local\\Temp\\ipykernel_9472\\4136513956.py:10: DeprecationWarning: executable_path has been deprecated, please pass in a Service object\n",
      "  driver = webdriver.Chrome(ChromeDriverManager().install())\n",
      "C:\\Users\\mdima\\AppData\\Local\\Temp\\ipykernel_9472\\4136513956.py:10: DeprecationWarning: executable_path has been deprecated, please pass in a Service object\n",
      "  driver = webdriver.Chrome(ChromeDriverManager().install())\n",
      "C:\\Users\\mdima\\AppData\\Local\\Temp\\ipykernel_9472\\4136513956.py:10: DeprecationWarning: executable_path has been deprecated, please pass in a Service object\n",
      "  driver = webdriver.Chrome(ChromeDriverManager().install())\n"
     ]
    }
   ],
   "source": [
    "dowjones_ind_url = \"https://finance.yahoo.com/quote/%5EDJI/history?period1=1451606400&period2=1672444800&interval=1d&filter=history&frequency=1d&includeAdjustedClose=true\"\n",
    "dowjones_trans_url = \"https://finance.yahoo.com/quote/%5EDJT/history?period1=1451606400&period2=1672444800&interval=1d&filter=history&frequency=1d&includeAdjustedClose=true\"\n",
    "snp_url = \"https://finance.yahoo.com/quote/%5EGSPC/history?period1=1451606400&period2=1672444800&interval=1d&filter=history&frequency=1d&includeAdjustedClose=true\"\n",
    "rio_url = \"https://finance.yahoo.com/quote/RIO/history?period1=1451606400&period2=1672444800&interval=1d&filter=history&frequency=1d&includeAdjustedClose=true\"\n",
    "copper_url = \"https://finance.yahoo.com/quote/SCCO/history?period1=1451606400&period2=1672444800&interval=1d&filter=history&frequency=1d&includeAdjustedClose=true\"\n",
    "newmont_url = \"https://finance.yahoo.com/quote/NEM/history?period1=1451606400&period2=1672444800&interval=1d&filter=history&frequency=1d&includeAdjustedClose=true\"\n",
    "#prepare empty dataframes\n",
    "dj_ind = pd.DataFrame()\n",
    "dj_trans = pd.DataFrame()\n",
    "snp = pd.DataFrame()\n",
    "rio = pd.DataFrame()\n",
    "copper = pd.DataFrame()\n",
    "newmont = pd.DataFrame()\n",
    "# execute scraping process through all the urls\n",
    "dj_ind = scraping_yfinance(dowjones_ind_url)\n",
    "dj_trans = scraping_yfinance(dowjones_trans_url)\n",
    "snp = scraping_yfinance(snp_url)\n",
    "rio = scraping_yfinance(rio_url)\n",
    "copper = scraping_yfinance(copper_url)\n",
    "newmont = scraping_yfinance(newmont_url)\n",
    "# nasdaq: read csv"
   ]
  },
  {
   "cell_type": "code",
   "execution_count": 14,
   "metadata": {},
   "outputs": [],
   "source": [
    "dj_ind.to_csv(\"dow jones industrial stock price.csv\", index = False)\n",
    "dj_trans.to_csv(\"dow jones tansportation stock price.csv\", index = False)\n",
    "snp.to_csv(\"snp stock price.csv\", index = False)\n",
    "rio.to_csv(\"rio tinto stock price.csv\", index = False)\n",
    "copper.to_csv(\"southern copper stock price.csv\", index = False)\n",
    "newmont.to_csv(\"newmont stock price.csv\", index = False)"
   ]
  }
 ],
 "metadata": {
  "kernelspec": {
   "display_name": "Python 3",
   "language": "python",
   "name": "python3"
  },
  "language_info": {
   "codemirror_mode": {
    "name": "ipython",
    "version": 3
   },
   "file_extension": ".py",
   "mimetype": "text/x-python",
   "name": "python",
   "nbconvert_exporter": "python",
   "pygments_lexer": "ipython3",
   "version": "3.10.2"
  },
  "orig_nbformat": 4,
  "vscode": {
   "interpreter": {
    "hash": "1acc24bd1901f9ae8c29efb6830fcc1ca9fe0219dd00f8f1dc1b91856def15a9"
   }
  }
 },
 "nbformat": 4,
 "nbformat_minor": 2
}
