{
 "cells": [
  {
   "cell_type": "code",
   "execution_count": null,
   "metadata": {},
   "outputs": [],
   "source": [
    "# pip install pymysql"
   ]
  },
  {
   "cell_type": "code",
   "execution_count": null,
   "metadata": {},
   "outputs": [],
   "source": [
    "# pip install sqlalchemy"
   ]
  },
  {
   "cell_type": "code",
   "execution_count": null,
   "metadata": {},
   "outputs": [],
   "source": [
    "# pip install sqlalchemy_utils"
   ]
  },
  {
   "cell_type": "code",
   "execution_count": 8,
   "metadata": {},
   "outputs": [],
   "source": [
    "import pymysql\n",
    "from sqlalchemy import create_engine\n",
    "from sqlalchemy import MetaData\n",
    "import getpass\n",
    "password = getpass.getpass()\n",
    "from sqlalchemy_utils import database_exists, create_database\n",
    "import pandas as pd"
   ]
  },
  {
   "attachments": {},
   "cell_type": "markdown",
   "metadata": {},
   "source": [
    "function to format to datetime; dropping duplicates"
   ]
  },
  {
   "cell_type": "code",
   "execution_count": 9,
   "metadata": {},
   "outputs": [],
   "source": [
    "def date_formatting (df, col):\n",
    "    df[col] = df[col].astype(\"datetime64[ns]\")\n",
    "    df[\"year\"] = pd.DatetimeIndex(df[col]).year\n",
    "    df = df.sort_values(by=col, ascending = 0)\n",
    "    df = df.drop_duplicates(subset = [col])\n",
    "    return df"
   ]
  },
  {
   "attachments": {},
   "cell_type": "markdown",
   "metadata": {},
   "source": [
    "function to apply snake_case"
   ]
  },
  {
   "cell_type": "code",
   "execution_count": 10,
   "metadata": {},
   "outputs": [],
   "source": [
    "def snake_case(df):\n",
    "    cols=[]\n",
    "    for i in df.columns:\n",
    "        cols.append(i.lower())\n",
    "    df.columns = cols\n",
    "    df.columns = df.columns.str.replace(' ', '_')\n",
    "    return df"
   ]
  },
  {
   "attachments": {},
   "cell_type": "markdown",
   "metadata": {},
   "source": [
    "read all downloaded and scraped csv (code script for scraping: see \"PART 1: web scraping\")"
   ]
  },
  {
   "cell_type": "code",
   "execution_count": 11,
   "metadata": {},
   "outputs": [],
   "source": [
    "gold = pd.read_csv(\"./files/gold price.csv\")\n",
    "\n",
    "silver = pd.read_csv(\"./files/silver price.csv\")\n",
    "\n",
    "platinum = pd.read_csv(\"./files/platinum price.csv\")\n",
    "platinum = platinum[[\"Date\",\"Close\"]]\n",
    "platinum = platinum.rename(columns = {\"Close\":\"Price\"})\n",
    "\n",
    "palladium = pd.read_csv(\"./files/palladium price.csv\")\n",
    "palladium = palladium[[\"Date\",\"Price\"]]\n",
    "\n",
    "coal_monthly = pd.read_csv(\"./files/coal price monthly.csv\")\n",
    "coal_monthly = coal_monthly.rename(columns = {\"DATE\":\"Date\", \"PCOALAUUSDM\":\"Price\"})\n",
    "\n",
    "n_gas_1 = pd.read_csv(\"./files/natural gas price 1.csv\")\n",
    "n_gas_1 = n_gas_1[[\"Date\",\"Price\"]]\n",
    "n_gas_2 = pd.read_csv(\"./files/natural gas price 2.csv\")\n",
    "n_gas_2 = n_gas_2[[\"Date\",\"Price\"]]\n",
    "n_gas = [n_gas_1, n_gas_2]\n",
    "n_gas = pd.concat(n_gas)\n",
    "\n",
    "oil_1 = pd.read_csv(\"./files/crude oil price 1.csv\")\n",
    "oil_1 = oil_1[[\"Date\",\"Price\"]]\n",
    "oil_2 = pd.read_csv(\"./files/crude oil price 2.csv\")\n",
    "oil_2 = oil_2[[\"Date\",\"Price\"]]\n",
    "oil = [oil_1, oil_2]\n",
    "oil = pd.concat(oil)\n",
    "\n",
    "euro_1 = pd.read_csv(\"./files/eur price 1.csv\")\n",
    "euro_1 = euro_1[[\"Date\",\"Price\"]]\n",
    "euro_2 = pd.read_csv(\"./files/eur price 2.csv\")\n",
    "euro_2 = euro_2[[\"Date\",\"Price\"]]\n",
    "euro = [euro_1, euro_2]\n",
    "euro = pd.concat(euro)\n",
    "\n",
    "gbp_1 = pd.read_csv(\"./files/gbp price 1.csv\")\n",
    "gbp_1 = gbp_1[[\"Date\",\"Price\"]]\n",
    "gbp_2 = pd.read_csv(\"./files/gbp price 2.csv\")\n",
    "gbp_2 = gbp_2[[\"Date\",\"Price\"]]\n",
    "gbp = [gbp_1, gbp_2]\n",
    "gbp = pd.concat(gbp)\n",
    "\n",
    "dj_ind = pd.read_csv(\"./files/dow jones industrial stock price.csv\")\n",
    "\n",
    "dj_trans = pd.read_csv(\"./files/dow jones tansportation stock price.csv\")\n",
    "\n",
    "nasdaq = pd.read_csv(\"./files/nasdaq stock price.csv\")\n",
    "\n",
    "snp = pd.read_csv(\"./files/snp stock price.csv\")\n",
    "\n",
    "scco = pd.read_csv(\"./files/southern copper corp price.csv\")\n",
    "scco = scco[[\"Date\",\"Close\"]]\n",
    "scco = scco.rename(columns = {\"Close\":\"Price\"})\n",
    "\n",
    "rio = pd.read_csv(\"./files/rio tinto group price.csv\")\n",
    "rio = rio[[\"Date\",\"Close\"]]\n",
    "rio = rio.rename(columns = {\"Close\":\"Price\"})\n",
    "\n",
    "royalg = pd.read_csv(\"./files/royal gold price.csv\")\n",
    "royalg = royalg[[\"Date\",\"Close\"]]\n",
    "royalg = royalg.rename(columns = {\"Close\":\"Price\"})\n",
    "\n",
    "newmont = pd.read_csv(\"./files/newmont corp price.csv\")\n",
    "newmont = newmont[[\"Date\",\"Close\"]]\n",
    "newmont = newmont.rename(columns = {\"Close\":\"Price\"})\n",
    "\n",
    "agnico = pd.read_csv(\"./files/agnico eagle mines price.csv\")\n",
    "agnico = agnico[[\"Date\",\"Close\"]]\n",
    "agnico = agnico.rename(columns = {\"Close\":\"Price\"})"
   ]
  },
  {
   "attachments": {},
   "cell_type": "markdown",
   "metadata": {},
   "source": [
    "cleaning up the columns and apply datetime type"
   ]
  },
  {
   "cell_type": "code",
   "execution_count": 12,
   "metadata": {},
   "outputs": [
    {
     "data": {
      "text/plain": [
       "(6707, 3)"
      ]
     },
     "metadata": {},
     "output_type": "display_data"
    },
    {
     "data": {
      "text/plain": [
       "(6668, 3)"
      ]
     },
     "metadata": {},
     "output_type": "display_data"
    },
    {
     "data": {
      "text/plain": [
       "(5114, 3)"
      ]
     },
     "metadata": {},
     "output_type": "display_data"
    },
    {
     "data": {
      "text/plain": [
       "(2320, 3)"
      ]
     },
     "metadata": {},
     "output_type": "display_data"
    },
    {
     "data": {
      "text/plain": [
       "(312, 3)"
      ]
     },
     "metadata": {},
     "output_type": "display_data"
    },
    {
     "data": {
      "text/plain": [
       "(6574, 3)"
      ]
     },
     "metadata": {},
     "output_type": "display_data"
    },
    {
     "data": {
      "text/plain": [
       "(6575, 3)"
      ]
     },
     "metadata": {},
     "output_type": "display_data"
    },
    {
     "data": {
      "text/plain": [
       "(6778, 3)"
      ]
     },
     "metadata": {},
     "output_type": "display_data"
    },
    {
     "data": {
      "text/plain": [
       "(6776, 3)"
      ]
     },
     "metadata": {},
     "output_type": "display_data"
    },
    {
     "data": {
      "text/plain": [
       "(6528, 3)"
      ]
     },
     "metadata": {},
     "output_type": "display_data"
    },
    {
     "data": {
      "text/plain": [
       "(6528, 3)"
      ]
     },
     "metadata": {},
     "output_type": "display_data"
    },
    {
     "data": {
      "text/plain": [
       "(6550, 3)"
      ]
     },
     "metadata": {},
     "output_type": "display_data"
    },
    {
     "data": {
      "text/plain": [
       "(6550, 3)"
      ]
     },
     "metadata": {},
     "output_type": "display_data"
    },
    {
     "data": {
      "text/plain": [
       "(5285, 3)"
      ]
     },
     "metadata": {},
     "output_type": "display_data"
    },
    {
     "data": {
      "text/plain": [
       "(5285, 3)"
      ]
     },
     "metadata": {},
     "output_type": "display_data"
    },
    {
     "data": {
      "text/plain": [
       "(5285, 3)"
      ]
     },
     "metadata": {},
     "output_type": "display_data"
    },
    {
     "data": {
      "text/plain": [
       "(5285, 3)"
      ]
     },
     "metadata": {},
     "output_type": "display_data"
    },
    {
     "data": {
      "text/plain": [
       "(5285, 3)"
      ]
     },
     "metadata": {},
     "output_type": "display_data"
    }
   ],
   "source": [
    "dataframes = [gold, silver, platinum, palladium, coal_monthly, n_gas, oil, euro, gbp, dj_ind, dj_trans, nasdaq, snp, scco, rio, royalg, newmont, agnico]\n",
    "for dataframe in dataframes:\n",
    "    dataframe = snake_case(dataframe)\n",
    "    dataframe = date_formatting(dataframe, \"date\")\n",
    "    display(dataframe.shape)"
   ]
  },
  {
   "attachments": {},
   "cell_type": "markdown",
   "metadata": {},
   "source": [
    "create connection to mysql, then make a new SQL database with name \"mid_project\" if it doesn't exist yet."
   ]
  },
  {
   "cell_type": "code",
   "execution_count": 16,
   "metadata": {},
   "outputs": [],
   "source": [
    "connection_string = 'mysql+pymysql://root:' + password + '@localhost/mid_project2'\n",
    "engine = create_engine(connection_string)\n",
    "if not database_exists(engine.url):\n",
    "    create_database(engine.url)"
   ]
  },
  {
   "attachments": {},
   "cell_type": "markdown",
   "metadata": {},
   "source": [
    "metadata is like temporary memory in python to collect data (or dataframes) that we want to put in the SQL database"
   ]
  },
  {
   "attachments": {},
   "cell_type": "markdown",
   "metadata": {},
   "source": [
    "UPDATE: metadata not needed here, hehe"
   ]
  },
  {
   "cell_type": "code",
   "execution_count": null,
   "metadata": {},
   "outputs": [],
   "source": [
    "# metadata_obj = MetaData()"
   ]
  },
  {
   "attachments": {},
   "cell_type": "markdown",
   "metadata": {},
   "source": [
    "making tables in SQL database out of pandas dataframe"
   ]
  },
  {
   "cell_type": "code",
   "execution_count": 17,
   "metadata": {},
   "outputs": [
    {
     "data": {
      "text/plain": [
       "5285"
      ]
     },
     "execution_count": 17,
     "metadata": {},
     "output_type": "execute_result"
    }
   ],
   "source": [
    "gold.to_sql(\"gold\", engine, if_exists = \"replace\")\n",
    "silver.to_sql(\"silver\", engine, if_exists = \"replace\")\n",
    "platinum.to_sql(\"platinum\", engine, if_exists = \"replace\")\n",
    "palladium.to_sql(\"palladium\", engine, if_exists = \"replace\")\n",
    "# coal.to_sql(\"coal\", engine, if_exists = \"replace\")\n",
    "coal_monthly.to_sql(\"coal_mnthl\", engine, if_exists = \"replace\")\n",
    "n_gas.to_sql(\"n_gas\", engine, if_exists = \"replace\")\n",
    "oil.to_sql(\"oil\", engine, if_exists = \"replace\")\n",
    "euro.to_sql(\"euro\", engine, if_exists = \"replace\")\n",
    "gbp.to_sql(\"gbp\", engine, if_exists = \"replace\")\n",
    "dj_ind.to_sql(\"dowjones_ind\", engine, if_exists = \"replace\")\n",
    "dj_trans.to_sql(\"dowjones_transp\", engine, if_exists = \"replace\")\n",
    "nasdaq.to_sql(\"nasdaq\", engine, if_exists = \"replace\")\n",
    "snp.to_sql(\"snp\", engine, if_exists = \"replace\")\n",
    "scco.to_sql(\"scco\", engine, if_exists = \"replace\")\n",
    "rio.to_sql(\"rio\", engine, if_exists = \"replace\")\n",
    "royalg.to_sql(\"royal_gold\", engine, if_exists = \"replace\")\n",
    "newmont.to_sql(\"newmont\", engine, if_exists = \"replace\")\n",
    "agnico.to_sql(\"agnico\", engine, if_exists = \"replace\")"
   ]
  },
  {
   "attachments": {},
   "cell_type": "markdown",
   "metadata": {},
   "source": [
    "make query to JOIN all the tables with rows with the same date"
   ]
  },
  {
   "cell_type": "code",
   "execution_count": null,
   "metadata": {},
   "outputs": [],
   "source": [
    "query = '''\n",
    "select distinct euro.date, euro.year, gold.price as gold,\n",
    "silver.price as silver, platinum.price as platinum,\n",
    "palladium.price as palladium, coal_mnthl.price as coal_monthly,\n",
    "n_gas.price as n_gas, oil.price as oil,\n",
    "euro.price as euro, gbp.price as gb_pound,\n",
    "dowjones_ind.price as dowjones_industrial, dowjones_transp.price \n",
    "as dowjones_transport, nasdaq.price as nasdaq, snp.price as snp,\n",
    "scco.price as southern_copper, rio.price as rio_tinto,\n",
    "royal_gold.price as royal_gold, newmont.price as newmont,\n",
    "agnico.price as agnico_mines\n",
    "from euro left join gbp on euro.date = gbp.date\n",
    "left join gold on euro.date = gold.date\n",
    "left join silver on euro.date = silver.date\n",
    "left join oil on euro.date = oil.date\n",
    "left join n_gas on euro.date = n_gas.date\n",
    "left join platinum on euro.date = platinum.date\n",
    "left join palladium on euro.date = palladium.date\n",
    "left join coal_mnthl on euro.date = coal_mnthl.date\n",
    "left join dowjones_ind on euro.date = dowjones_ind.date\n",
    "left join dowjones_transp on euro.date = dowjones_transp.date\n",
    "left join nasdaq on euro.date = nasdaq.date\n",
    "left join snp on euro.date = snp.date\n",
    "left join scco on euro.date = scco.date\n",
    "left join rio on euro.date = rio.date\n",
    "left join royal_gold on euro.date = royal_gold.date\n",
    "left join newmont on euro.date = newmont.date\n",
    "left join agnico on euro.date = agnico.date\n",
    "order by euro.date asc;\n",
    "'''\n",
    "data = pd.read_sql_query(query, engine)\n",
    "data.shape"
   ]
  },
  {
   "attachments": {},
   "cell_type": "markdown",
   "metadata": {},
   "source": [
    "save to \"data_dirty.csv\""
   ]
  },
  {
   "cell_type": "code",
   "execution_count": null,
   "metadata": {},
   "outputs": [],
   "source": [
    "data.to_csv(\"data_dirty.csv\")"
   ]
  },
  {
   "cell_type": "code",
   "execution_count": null,
   "metadata": {},
   "outputs": [],
   "source": [
    "df.index1[df[\"country\"] == 1]"
   ]
  }
 ],
 "metadata": {
  "kernelspec": {
   "display_name": "Python 3",
   "language": "python",
   "name": "python3"
  },
  "language_info": {
   "codemirror_mode": {
    "name": "ipython",
    "version": 3
   },
   "file_extension": ".py",
   "mimetype": "text/x-python",
   "name": "python",
   "nbconvert_exporter": "python",
   "pygments_lexer": "ipython3",
   "version": "3.10.2 (tags/v3.10.2:a58ebcc, Jan 17 2022, 14:12:15) [MSC v.1929 64 bit (AMD64)]"
  },
  "orig_nbformat": 4,
  "vscode": {
   "interpreter": {
    "hash": "1acc24bd1901f9ae8c29efb6830fcc1ca9fe0219dd00f8f1dc1b91856def15a9"
   }
  }
 },
 "nbformat": 4,
 "nbformat_minor": 2
}
