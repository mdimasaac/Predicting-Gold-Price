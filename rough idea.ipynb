{
 "cells": [
  {
   "attachments": {},
   "cell_type": "markdown",
   "metadata": {
    "vscode": {
     "languageId": "plaintext"
    }
   },
   "source": [
    "web scraping part. collect all datasets (prices) needed for the prediction (daily data if possible, else monthly). columns are:\n",
    "- gold (source found)\n",
    "- silver (source found)\n",
    "- platinum (source found)\n",
    "- palladium (source found)\n",
    "- crude oil WTI (source found)\n",
    "- dow jones industrial average (source found)\n",
    "- USD index (source found)\n",
    "- EUR index (source found)\n",
    "- DAX transport & logistics (source found)\n",
    "- coal price (source found)\n",
    "- Bloomberg commodity index AWI! (do I need this?)\n",
    "- what other aspects could be included here? interest rate? other currencies?\n",
    "- gas prices, Gasverbrauch, Ölverbrauch, something like that?"
   ]
  },
  {
   "attachments": {},
   "cell_type": "markdown",
   "metadata": {
    "vscode": {
     "languageId": "plaintext"
    }
   },
   "source": [
    "data analysis part. make a dataframe and make sure the data's clean. then:\n",
    "- goal: make prediction model for data from 1992-2017.\n",
    "- train test the data.\n",
    "- target is gold price.\n",
    "- not sure if we're gonna have categorical column. probably not. we'll see\n",
    "- save data for 2017 separately. treat it as new unknown data to predict gold price in 2017\n",
    "- use LM, KNN, MLP\n",
    "- make hypothesis: in a wider time interval (e.g. 5 years range), gold price goes up with same slope (with tolerance range +- x%), so\n",
    "- H0: y = mx + c, m = konst.\n",
    "- H1: m != konst. slope goes outside tolerance range, something like that?\n",
    "- TARGET: TRY TO FIND AN IDEAL TIME INTERVAL THAT PREDICTS PRICES BEST\n",
    "- test the hypothesis\n",
    "- formulate results/answers/conclusions\n",
    "- Q: where do I need to use SQL here?\n",
    "- --> save the data in sql file\n",
    "- do a simple regression model for a shorter range of time\n",
    "- yahoo finance, available to download (but starting from 2000. but check again)"
   ]
  },
  {
   "attachments": {},
   "cell_type": "markdown",
   "metadata": {
    "vscode": {
     "languageId": "plaintext"
    }
   },
   "source": [
    "- gold price https://www.usagold.com/daily-gold-price-history/?ddYears=2022\n",
    "- silver price https://www.usagold.com/daily-silver-price-history/\n",
    "- platinum price https://www.investing.com/commodities/platinum-historical-data\n",
    "- crude oil price https://www.investing.com/commodities/crude-oil-historical-data\n",
    "- palladium price https://www.investing.com/commodities/palladium-historical-data\n",
    "- dow jones industrial average https://finance.yahoo.com/quote/%5EDJI/history?p=%5EDJI\n",
    "- dow jones transportation https://finance.yahoo.com/quote/%5EDJT?p=^DJT&.tsrc=fin-srch\n",
    "- EUR/USD (EUR=X) https://www.investing.com/currencies/eur-usd-historical-data\n",
    "- natural gas https://www.investing.com/commodities/natural-gas-historical-data\n",
    "- transport & logistic https://www.investing.com/indices/dax-transport---logistics-price-chart\n",
    "- coal newcastle https://www.investing.com/commodities/newcastle-coal-futures-historical-data\n",
    "- S&P 500 https://finance.yahoo.com/quote/%5EGSPC?p=%5EGSPC\n",
    "- nasdaq composite https://finance.yahoo.com/quote/%5EIXIC?p=%5EIXIC\n",
    "- GBP: https://www.investing.com/currencies/gbp-usd-historical-data\n",
    "- SCCO: https://finance.yahoo.com/quote/SCCO/history?p=SCCO\n",
    "- Rio Tinto: https://finance.yahoo.com/quote/RIO/history?p=RIO\n",
    "- Royal Gold: https://finance.yahoo.com/quote/RGLD/history?p=RGLD\n",
    "- Newmont: https://finance.yahoo.com/quote/NEM/history?p=NEM\n",
    "- Agnico Mines: https://finance.yahoo.com/quote/AEM/history?p=AEM"
   ]
  }
 ],
 "metadata": {
  "kernelspec": {
   "display_name": "Python 3",
   "language": "python",
   "name": "python3"
  },
  "language_info": {
   "name": "python",
   "version": "3.10.2 (tags/v3.10.2:a58ebcc, Jan 17 2022, 14:12:15) [MSC v.1929 64 bit (AMD64)]"
  },
  "orig_nbformat": 4,
  "vscode": {
   "interpreter": {
    "hash": "1acc24bd1901f9ae8c29efb6830fcc1ca9fe0219dd00f8f1dc1b91856def15a9"
   }
  }
 },
 "nbformat": 4,
 "nbformat_minor": 2
}
