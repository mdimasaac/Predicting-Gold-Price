{
 "cells": [
  {
   "cell_type": "code",
   "execution_count": 262,
   "metadata": {},
   "outputs": [],
   "source": [
    "import requests\n",
    "from bs4 import BeautifulSoup as bs4\n",
    "import pandas as pd\n",
    "import numpy as np\n",
    "import matplotlib.pyplot as plt\n",
    "import seaborn as sns"
   ]
  },
  {
   "attachments": {},
   "cell_type": "markdown",
   "metadata": {},
   "source": [
    "##### scraping gold price from 1992 - 2017 (bs4)"
   ]
  },
  {
   "cell_type": "code",
   "execution_count": 9,
   "metadata": {},
   "outputs": [],
   "source": [
    "header = {\"User-Agent\":'Mozilla/5.0 (Windows NT 10.0; Win64; x64) AppleWebKit/537.36 (KHTML, like Gecko) Chrome/107.0.0.0 Safari/537.36'}\n",
    "gold_base_url = \"https://www.usagold.com/daily-gold-price-history/?ddYears=\"\n",
    "years = list(range(1992,2018,1))\n",
    "gold_date = []\n",
    "gold_price = []\n",
    "gold_url = []\n",
    "\n",
    "# defining multiple urls for scraping gold price from each year (1992 - 2017)\n",
    "for year in years:\n",
    "    gold_url.append(gold_base_url+str(year))\n",
    "\n",
    "# start the scraping for each generated url\n",
    "for url in gold_url:\n",
    "    r = requests.get(url, headers = header)\n",
    "    c = r.content\n",
    "    soup = bs4(c, \"html.parser\")\n",
    "    prices = soup.find(\"div\",{\"id\":\"quotes\"})\n",
    "    table = prices.find(\"table\", {\"id\":\"pricehistorytable\"})\n",
    "    all = table.find_all(\"tr\")[2:]\n",
    "    for i in all:\n",
    "        try:\n",
    "            date = i.find_all(\"td\",{\"class\":\"text\"})[0].text\n",
    "        except:\n",
    "            date = None\n",
    "        try:\n",
    "            price = i.find_all(\"td\",{\"class\":\"text\"})[1].text\n",
    "        except:\n",
    "            price = None\n",
    "        gold_date.append(date)\n",
    "        gold_price.append(price)\n",
    "\n",
    "gold = pd.DataFrame()\n",
    "gold[\"date\"] = gold_date\n",
    "gold[\"price\"] = gold_price        \n",
    "gold.to_csv(\"gold price.csv\", index = False)"
   ]
  },
  {
   "cell_type": "code",
   "execution_count": 10,
   "metadata": {},
   "outputs": [
    {
     "data": {
      "text/plain": [
       "(6715, 2)"
      ]
     },
     "metadata": {},
     "output_type": "display_data"
    },
    {
     "data": {
      "text/plain": [
       "date     0\n",
       "price    0\n",
       "dtype: int64"
      ]
     },
     "metadata": {},
     "output_type": "display_data"
    },
    {
     "data": {
      "text/html": [
       "<div>\n",
       "<style scoped>\n",
       "    .dataframe tbody tr th:only-of-type {\n",
       "        vertical-align: middle;\n",
       "    }\n",
       "\n",
       "    .dataframe tbody tr th {\n",
       "        vertical-align: top;\n",
       "    }\n",
       "\n",
       "    .dataframe thead th {\n",
       "        text-align: right;\n",
       "    }\n",
       "</style>\n",
       "<table border=\"1\" class=\"dataframe\">\n",
       "  <thead>\n",
       "    <tr style=\"text-align: right;\">\n",
       "      <th></th>\n",
       "      <th>date</th>\n",
       "      <th>price</th>\n",
       "    </tr>\n",
       "  </thead>\n",
       "  <tbody>\n",
       "    <tr>\n",
       "      <th>0</th>\n",
       "      <td>31 Dec 1992</td>\n",
       "      <td>333.00</td>\n",
       "    </tr>\n",
       "    <tr>\n",
       "      <th>1</th>\n",
       "      <td>30 Dec 1992</td>\n",
       "      <td>333.15</td>\n",
       "    </tr>\n",
       "  </tbody>\n",
       "</table>\n",
       "</div>"
      ],
      "text/plain": [
       "          date   price\n",
       "0  31 Dec 1992  333.00\n",
       "1  30 Dec 1992  333.15"
      ]
     },
     "metadata": {},
     "output_type": "display_data"
    },
    {
     "data": {
      "text/html": [
       "<div>\n",
       "<style scoped>\n",
       "    .dataframe tbody tr th:only-of-type {\n",
       "        vertical-align: middle;\n",
       "    }\n",
       "\n",
       "    .dataframe tbody tr th {\n",
       "        vertical-align: top;\n",
       "    }\n",
       "\n",
       "    .dataframe thead th {\n",
       "        text-align: right;\n",
       "    }\n",
       "</style>\n",
       "<table border=\"1\" class=\"dataframe\">\n",
       "  <thead>\n",
       "    <tr style=\"text-align: right;\">\n",
       "      <th></th>\n",
       "      <th>date</th>\n",
       "      <th>price</th>\n",
       "    </tr>\n",
       "  </thead>\n",
       "  <tbody>\n",
       "    <tr>\n",
       "      <th>6713</th>\n",
       "      <td>02 Jan 2017</td>\n",
       "      <td>1150.27</td>\n",
       "    </tr>\n",
       "    <tr>\n",
       "      <th>6714</th>\n",
       "      <td>30 Dec 2016</td>\n",
       "      <td>1152.07</td>\n",
       "    </tr>\n",
       "  </tbody>\n",
       "</table>\n",
       "</div>"
      ],
      "text/plain": [
       "             date    price\n",
       "6713  02 Jan 2017  1150.27\n",
       "6714  30 Dec 2016  1152.07"
      ]
     },
     "metadata": {},
     "output_type": "display_data"
    }
   ],
   "source": [
    "display(gold.shape)\n",
    "display(gold.isna().sum())\n",
    "display(gold.head(2))\n",
    "display(gold.tail(2))"
   ]
  },
  {
   "attachments": {},
   "cell_type": "markdown",
   "metadata": {},
   "source": [
    "##### scraping silver price from 1992 - 2017 (bs4)"
   ]
  },
  {
   "cell_type": "code",
   "execution_count": 11,
   "metadata": {},
   "outputs": [],
   "source": [
    "header = {\"User-Agent\":'Mozilla/5.0 (Windows NT 10.0; Win64; x64) AppleWebKit/537.36 (KHTML, like Gecko) Chrome/107.0.0.0 Safari/537.36'}\n",
    "silver_base_url = \"https://www.usagold.com/daily-silver-price-history/?ddYears=\"\n",
    "years = list(range(1992,2018,1))\n",
    "silver_date = []\n",
    "silver_price = []\n",
    "silver_url = []\n",
    "\n",
    "# defining multiple urls for scraping gold price from each year (1992 - 2017)\n",
    "for year in years:\n",
    "    silver_url.append(silver_base_url+str(year))\n",
    "\n",
    "# start the scraping for each generated url\n",
    "for url in silver_url:\n",
    "    r = requests.get(url, headers = header)\n",
    "    c = r.content\n",
    "    soup = bs4(c, \"html.parser\")\n",
    "    prices = soup.find(\"div\",{\"id\":\"quotes\"})\n",
    "    table = prices.find(\"table\", {\"id\":\"pricehistorytable\"})\n",
    "    all = table.find_all(\"tr\")[2:]\n",
    "    for i in all:\n",
    "        try:\n",
    "            date = i.find_all(\"td\",{\"class\":\"text\"})[0].text\n",
    "        except:\n",
    "            date = None\n",
    "        try:\n",
    "            price = i.find_all(\"td\",{\"class\":\"text\"})[1].text\n",
    "        except:\n",
    "            price = None\n",
    "        silver_date.append(date)\n",
    "        silver_price.append(price)\n",
    "\n",
    "silver = pd.DataFrame()\n",
    "silver[\"date\"] = silver_date\n",
    "silver[\"price\"] = silver_price\n",
    "silver.to_csv(\"silver price.csv\", index = False)"
   ]
  },
  {
   "cell_type": "code",
   "execution_count": 12,
   "metadata": {},
   "outputs": [
    {
     "data": {
      "text/plain": [
       "(6676, 2)"
      ]
     },
     "metadata": {},
     "output_type": "display_data"
    },
    {
     "data": {
      "text/plain": [
       "date     0\n",
       "price    0\n",
       "dtype: int64"
      ]
     },
     "metadata": {},
     "output_type": "display_data"
    },
    {
     "data": {
      "text/html": [
       "<div>\n",
       "<style scoped>\n",
       "    .dataframe tbody tr th:only-of-type {\n",
       "        vertical-align: middle;\n",
       "    }\n",
       "\n",
       "    .dataframe tbody tr th {\n",
       "        vertical-align: top;\n",
       "    }\n",
       "\n",
       "    .dataframe thead th {\n",
       "        text-align: right;\n",
       "    }\n",
       "</style>\n",
       "<table border=\"1\" class=\"dataframe\">\n",
       "  <thead>\n",
       "    <tr style=\"text-align: right;\">\n",
       "      <th></th>\n",
       "      <th>date</th>\n",
       "      <th>price</th>\n",
       "    </tr>\n",
       "  </thead>\n",
       "  <tbody>\n",
       "    <tr>\n",
       "      <th>0</th>\n",
       "      <td>31 Dec 1992</td>\n",
       "      <td>3.68</td>\n",
       "    </tr>\n",
       "    <tr>\n",
       "      <th>1</th>\n",
       "      <td>30 Dec 1992</td>\n",
       "      <td>3.68</td>\n",
       "    </tr>\n",
       "  </tbody>\n",
       "</table>\n",
       "</div>"
      ],
      "text/plain": [
       "          date price\n",
       "0  31 Dec 1992  3.68\n",
       "1  30 Dec 1992  3.68"
      ]
     },
     "metadata": {},
     "output_type": "display_data"
    },
    {
     "data": {
      "text/html": [
       "<div>\n",
       "<style scoped>\n",
       "    .dataframe tbody tr th:only-of-type {\n",
       "        vertical-align: middle;\n",
       "    }\n",
       "\n",
       "    .dataframe tbody tr th {\n",
       "        vertical-align: top;\n",
       "    }\n",
       "\n",
       "    .dataframe thead th {\n",
       "        text-align: right;\n",
       "    }\n",
       "</style>\n",
       "<table border=\"1\" class=\"dataframe\">\n",
       "  <thead>\n",
       "    <tr style=\"text-align: right;\">\n",
       "      <th></th>\n",
       "      <th>date</th>\n",
       "      <th>price</th>\n",
       "    </tr>\n",
       "  </thead>\n",
       "  <tbody>\n",
       "    <tr>\n",
       "      <th>6674</th>\n",
       "      <td>02 Jan 2017</td>\n",
       "      <td>15.97</td>\n",
       "    </tr>\n",
       "    <tr>\n",
       "      <th>6675</th>\n",
       "      <td>30 Dec 2016</td>\n",
       "      <td>16.47</td>\n",
       "    </tr>\n",
       "  </tbody>\n",
       "</table>\n",
       "</div>"
      ],
      "text/plain": [
       "             date  price\n",
       "6674  02 Jan 2017  15.97\n",
       "6675  30 Dec 2016  16.47"
      ]
     },
     "metadata": {},
     "output_type": "display_data"
    }
   ],
   "source": [
    "display(silver.shape)\n",
    "display(silver.isna().sum())\n",
    "display(silver.head(2))\n",
    "display(silver.tail(2))"
   ]
  },
  {
   "attachments": {},
   "cell_type": "markdown",
   "metadata": {},
   "source": [
    "##### scraping stock prices from yahoo finance (bs4 + selenium)"
   ]
  },
  {
   "cell_type": "code",
   "execution_count": 95,
   "metadata": {},
   "outputs": [],
   "source": [
    "from selenium import webdriver\n",
    "from selenium.webdriver.chrome.options import Options\n",
    "from selenium.webdriver.common.by import By\n",
    "from webdriver_manager.chrome import ChromeDriverManager\n",
    "from selenium.webdriver.common.keys import Keys\n",
    "# importing time to make delays\n",
    "import time"
   ]
  },
  {
   "attachments": {},
   "cell_type": "markdown",
   "metadata": {},
   "source": [
    "using selenium, because some clicks, user inputs, and scrolling motions in the webpage are necessary in order to display the full data of the table. It's a dynamic page where you need to scroll down through the page in order to display all the data. If we don't scroll it, bs4 won't get the complete page source"
   ]
  },
  {
   "cell_type": "code",
   "execution_count": 149,
   "metadata": {},
   "outputs": [],
   "source": [
    "def scraping_yfinance(url):\n",
    "    # --disabling browser popup notifications--\n",
    "    options = Options()\n",
    "    options.add_argument(\"--disable-notifications\")\n",
    "    # to prevent from being spotted as a robot\n",
    "    options.add_argument('--disable-gpu')\n",
    "    options.add_argument('user-agent=fake-useragent')\n",
    "    # installing chromedriver, so that we dont need to keep the chromedriver file\n",
    "    # that needs to be updated every once in a while. better install the latest automatically\n",
    "    driver = webdriver.Chrome(ChromeDriverManager().install())\n",
    "    # opens the browser, maximize window size\n",
    "    driver.maximize_window()\n",
    "    # opening url\n",
    "    driver.get(url)\n",
    "    # wait a bit until the \"I accept\" popup shows\n",
    "    time.sleep(2)\n",
    "    accept_xpath = \"/html/body/div/div/div/div/form/div[2]/div[2]/button\"\n",
    "    accept = driver.find_element(By.XPATH, accept_xpath)\n",
    "    # clicking \"I accept\", then wait a bit\n",
    "    accept.click()\n",
    "    time.sleep(1)\n",
    "    later_xpath = \"/html/body/div[1]/div/div/div[1]/div/div[4]/div/div/div[1]/div/div/div/div/div/section/button[2]\"\n",
    "    # clicking another popup\n",
    "    later = driver.find_element(By.XPATH, later_xpath)\n",
    "    later.click()\n",
    "    time.sleep(2)\n",
    "    # since the page is dynamic, meaning the full table wont be shown unless we scroll it,\n",
    "    # we use selenium to scroll through the page until the bottom page\n",
    "    # first, getting the page source before scrolling. we will compare it with the\n",
    "    # page source after scrolling.\n",
    "    # if html_before != html_after, it means the source is changed after scrolling.\n",
    "    # in that case, we want to keep scrolling until html_before == html_after\n",
    "    html1 = driver.page_source\n",
    "    end = False\n",
    "    while not end:\n",
    "        # Scroll down to bottom\n",
    "        driver.execute_script(\"window.scrollTo(0, window.scrollY + 1500)\") \n",
    "        time.sleep(.2)\n",
    "        driver.execute_script(\"window.scrollTo(0, window.scrollY + 1500)\") \n",
    "        time.sleep(.2)\n",
    "        driver.execute_script(\"window.scrollTo(0, window.scrollY + 1500)\") \n",
    "        time.sleep(.2)\n",
    "        # getting page source after scrolling\n",
    "        html2 = driver.page_source\n",
    "        # comparing html_before and html_after\n",
    "        if html1 == html2:\n",
    "            end = True\n",
    "        else:\n",
    "            html1 = html2\n",
    "    # YESSS!\n",
    "    # now that we have the complete page source, we scrape with beautiful soup\n",
    "    html = driver.page_source\n",
    "    soup = bs4(html)\n",
    "    # locating price table\n",
    "    table = soup.find(\"div\", {\"class\":\"Pb(10px) Ovx(a) W(100%)\"})\n",
    "    # getting all rows from that table (including dates, open price, closing price, etc)\n",
    "    all = table.find_all(\"tr\", {\"class\":\"BdT Bdc($seperatorColor) Ta(end) Fz(s) Whs(nw)\"})\n",
    "    dates = []\n",
    "    prices = []\n",
    "    df = pd.DataFrame()\n",
    "    # use loop to get only the 1st and 4th column of each row (date & close price),\n",
    "    # then save it in lists\n",
    "    for i in all:\n",
    "        try:\n",
    "            date = i.find_all(\"td\")[0].text\n",
    "        except:\n",
    "            date = None\n",
    "        dates.append(date)\n",
    "        try:\n",
    "            price = i.find_all(\"td\")[4].text\n",
    "        except:\n",
    "            price = None\n",
    "        prices.append(price)\n",
    "    # make a dataframe with existing lists\n",
    "    df[\"date\"] = dates\n",
    "    df[\"price\"] = prices\n",
    "    return df"
   ]
  },
  {
   "attachments": {},
   "cell_type": "markdown",
   "metadata": {},
   "source": [
    "not sure how to use loop in this case, but for now this'll do. preparing empty dataframes to then be filled/overwritten by dataframes created by the function"
   ]
  },
  {
   "cell_type": "code",
   "execution_count": 145,
   "metadata": {},
   "outputs": [],
   "source": [
    "dowjones_ind_url = \"https://finance.yahoo.com/quote/%5EDJI/history?period1=696902400&period2=1514678400&interval=1d&filter=history&frequency=1d&includeAdjustedClose=true\"\n",
    "dowjones_trans_url = \"https://finance.yahoo.com/quote/%5EDJT/history?period1=696902400&period2=1514678400&interval=1d&filter=history&frequency=1d&includeAdjustedClose=true\"\n",
    "nasdaq_url = \"https://finance.yahoo.com/quote/%5ENDX/history?period1=694224000&period2=1514678400&interval=1d&filter=history&frequency=1d&includeAdjustedClose=true\"\n",
    "snp_url = \"https://finance.yahoo.com/quote/%5EGSPC/history?period1=694224000&period2=1514678400&interval=1d&filter=history&frequency=1d&includeAdjustedClose=true\"\n",
    "\n",
    "dj_ind = pd.DataFrame()\n",
    "dj_trans = pd.DataFrame()\n",
    "nasdaq = pd.DataFrame()\n",
    "snp = pd.DataFrame()"
   ]
  },
  {
   "cell_type": "code",
   "execution_count": 146,
   "metadata": {},
   "outputs": [
    {
     "name": "stderr",
     "output_type": "stream",
     "text": [
      "C:\\Users\\mdima\\AppData\\Local\\Temp\\ipykernel_6784\\2814194222.py:10: DeprecationWarning: executable_path has been deprecated, please pass in a Service object\n",
      "  driver = webdriver.Chrome(ChromeDriverManager().install())\n",
      "C:\\Users\\mdima\\AppData\\Local\\Temp\\ipykernel_6784\\2814194222.py:10: DeprecationWarning: executable_path has been deprecated, please pass in a Service object\n",
      "  driver = webdriver.Chrome(ChromeDriverManager().install())\n",
      "C:\\Users\\mdima\\AppData\\Local\\Temp\\ipykernel_6784\\2814194222.py:10: DeprecationWarning: executable_path has been deprecated, please pass in a Service object\n",
      "  driver = webdriver.Chrome(ChromeDriverManager().install())\n",
      "C:\\Users\\mdima\\AppData\\Local\\Temp\\ipykernel_6784\\2814194222.py:10: DeprecationWarning: executable_path has been deprecated, please pass in a Service object\n",
      "  driver = webdriver.Chrome(ChromeDriverManager().install())\n"
     ]
    }
   ],
   "source": [
    "dj_ind = scraping_yfinance(dowjones_ind_url)\n",
    "dj_trans = scraping_yfinance(dowjones_trans_url)\n",
    "nasdaq = scraping_yfinance(nasdaq_url)\n",
    "snp = scraping_yfinance(snp_url)"
   ]
  },
  {
   "cell_type": "code",
   "execution_count": 148,
   "metadata": {},
   "outputs": [
    {
     "data": {
      "text/html": [
       "<div>\n",
       "<style scoped>\n",
       "    .dataframe tbody tr th:only-of-type {\n",
       "        vertical-align: middle;\n",
       "    }\n",
       "\n",
       "    .dataframe tbody tr th {\n",
       "        vertical-align: top;\n",
       "    }\n",
       "\n",
       "    .dataframe thead th {\n",
       "        text-align: right;\n",
       "    }\n",
       "</style>\n",
       "<table border=\"1\" class=\"dataframe\">\n",
       "  <thead>\n",
       "    <tr style=\"text-align: right;\">\n",
       "      <th></th>\n",
       "      <th>date</th>\n",
       "      <th>price</th>\n",
       "    </tr>\n",
       "  </thead>\n",
       "  <tbody>\n",
       "    <tr>\n",
       "      <th>0</th>\n",
       "      <td>Dec 29, 2017</td>\n",
       "      <td>24,719.22</td>\n",
       "    </tr>\n",
       "  </tbody>\n",
       "</table>\n",
       "</div>"
      ],
      "text/plain": [
       "           date      price\n",
       "0  Dec 29, 2017  24,719.22"
      ]
     },
     "metadata": {},
     "output_type": "display_data"
    },
    {
     "data": {
      "text/html": [
       "<div>\n",
       "<style scoped>\n",
       "    .dataframe tbody tr th:only-of-type {\n",
       "        vertical-align: middle;\n",
       "    }\n",
       "\n",
       "    .dataframe tbody tr th {\n",
       "        vertical-align: top;\n",
       "    }\n",
       "\n",
       "    .dataframe thead th {\n",
       "        text-align: right;\n",
       "    }\n",
       "</style>\n",
       "<table border=\"1\" class=\"dataframe\">\n",
       "  <thead>\n",
       "    <tr style=\"text-align: right;\">\n",
       "      <th></th>\n",
       "      <th>date</th>\n",
       "      <th>price</th>\n",
       "    </tr>\n",
       "  </thead>\n",
       "  <tbody>\n",
       "    <tr>\n",
       "      <th>0</th>\n",
       "      <td>Dec 29, 2017</td>\n",
       "      <td>10,612.29</td>\n",
       "    </tr>\n",
       "  </tbody>\n",
       "</table>\n",
       "</div>"
      ],
      "text/plain": [
       "           date      price\n",
       "0  Dec 29, 2017  10,612.29"
      ]
     },
     "metadata": {},
     "output_type": "display_data"
    },
    {
     "data": {
      "text/html": [
       "<div>\n",
       "<style scoped>\n",
       "    .dataframe tbody tr th:only-of-type {\n",
       "        vertical-align: middle;\n",
       "    }\n",
       "\n",
       "    .dataframe tbody tr th {\n",
       "        vertical-align: top;\n",
       "    }\n",
       "\n",
       "    .dataframe thead th {\n",
       "        text-align: right;\n",
       "    }\n",
       "</style>\n",
       "<table border=\"1\" class=\"dataframe\">\n",
       "  <thead>\n",
       "    <tr style=\"text-align: right;\">\n",
       "      <th></th>\n",
       "      <th>date</th>\n",
       "      <th>price</th>\n",
       "    </tr>\n",
       "  </thead>\n",
       "  <tbody>\n",
       "    <tr>\n",
       "      <th>0</th>\n",
       "      <td>Dec 29, 2017</td>\n",
       "      <td>6,396.42</td>\n",
       "    </tr>\n",
       "  </tbody>\n",
       "</table>\n",
       "</div>"
      ],
      "text/plain": [
       "           date     price\n",
       "0  Dec 29, 2017  6,396.42"
      ]
     },
     "metadata": {},
     "output_type": "display_data"
    },
    {
     "data": {
      "text/html": [
       "<div>\n",
       "<style scoped>\n",
       "    .dataframe tbody tr th:only-of-type {\n",
       "        vertical-align: middle;\n",
       "    }\n",
       "\n",
       "    .dataframe tbody tr th {\n",
       "        vertical-align: top;\n",
       "    }\n",
       "\n",
       "    .dataframe thead th {\n",
       "        text-align: right;\n",
       "    }\n",
       "</style>\n",
       "<table border=\"1\" class=\"dataframe\">\n",
       "  <thead>\n",
       "    <tr style=\"text-align: right;\">\n",
       "      <th></th>\n",
       "      <th>date</th>\n",
       "      <th>price</th>\n",
       "    </tr>\n",
       "  </thead>\n",
       "  <tbody>\n",
       "    <tr>\n",
       "      <th>0</th>\n",
       "      <td>Dec 29, 2017</td>\n",
       "      <td>2,673.61</td>\n",
       "    </tr>\n",
       "  </tbody>\n",
       "</table>\n",
       "</div>"
      ],
      "text/plain": [
       "           date     price\n",
       "0  Dec 29, 2017  2,673.61"
      ]
     },
     "metadata": {},
     "output_type": "display_data"
    }
   ],
   "source": [
    "display(dj_ind.head(1))\n",
    "display(dj_trans.head(1))\n",
    "display(nasdaq.head(1))\n",
    "display(snp.head(1))"
   ]
  },
  {
   "attachments": {},
   "cell_type": "markdown",
   "metadata": {},
   "source": [
    "saving the files in csv so you don't need to rerun the selenium again, since it takes a bit of time to let the computer run automatically"
   ]
  },
  {
   "cell_type": "code",
   "execution_count": 150,
   "metadata": {},
   "outputs": [],
   "source": [
    "dj_ind.to_csv(\"dow jones industrial stock price.csv\", index = False)\n",
    "dj_trans.to_csv(\"dow jones tansportation stock price.csv\", index = False)\n",
    "nasdaq.to_csv(\"nasdaq stock price.csv\", index = False)\n",
    "snp.to_csv(\"snp stock price.csv\", index = False)"
   ]
  },
  {
   "attachments": {},
   "cell_type": "markdown",
   "metadata": {},
   "source": [
    "All other datas are collected through downloading csv files, so there's no need to do any scraping there. <br>\n",
    "Next step will be explained in more detail in \"STEP 2 - create sql database\""
   ]
  }
 ],
 "metadata": {
  "kernelspec": {
   "display_name": "Python 3",
   "language": "python",
   "name": "python3"
  },
  "language_info": {
   "codemirror_mode": {
    "name": "ipython",
    "version": 3
   },
   "file_extension": ".py",
   "mimetype": "text/x-python",
   "name": "python",
   "nbconvert_exporter": "python",
   "pygments_lexer": "ipython3",
   "version": "3.10.2 (tags/v3.10.2:a58ebcc, Jan 17 2022, 14:12:15) [MSC v.1929 64 bit (AMD64)]"
  },
  "orig_nbformat": 4,
  "vscode": {
   "interpreter": {
    "hash": "1acc24bd1901f9ae8c29efb6830fcc1ca9fe0219dd00f8f1dc1b91856def15a9"
   }
  }
 },
 "nbformat": 4,
 "nbformat_minor": 2
}
